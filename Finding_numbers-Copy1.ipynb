{
 "cells": [
  {
   "cell_type": "code",
   "execution_count": 1,
   "metadata": {},
   "outputs": [],
   "source": [
    "import re\n",
    "import pickle\n",
    "import json\n",
    "import xml.etree.ElementTree as ET\n",
    "from nltk.corpus import stopwords, wordnet as wn\n",
    "from nltk.stem import WordNetLemmatizer\n",
    "from nltk.stem import PorterStemmer\n",
    "import os\n",
    "from nltk.tokenize import word_tokenize, sent_tokenize\n",
    "import numpy as np\n",
    "import math\n",
    "from difflib import SequenceMatcher\n",
    "import pandas as pd"
   ]
  },
  {
   "cell_type": "code",
   "execution_count": 2,
   "metadata": {},
   "outputs": [],
   "source": [
    "ref_keys = pickle.load(open(\"pickles_data/references_keys.pkl\", \"rb\"))"
   ]
  },
  {
   "cell_type": "code",
   "execution_count": 3,
   "metadata": {},
   "outputs": [],
   "source": [
    "author_level = pickle.load(open(\"pickles/paper_info (1).pickle\", \"rb\"))"
   ]
  },
  {
   "cell_type": "code",
   "execution_count": 3,
   "metadata": {},
   "outputs": [],
   "source": [
    "aid_list = pickle.load(open(\"aid_list.pickle\", \"rb\"))"
   ]
  },
  {
   "cell_type": "code",
   "execution_count": 5,
   "metadata": {},
   "outputs": [
    {
     "name": "stdout",
     "output_type": "stream",
     "text": [
      "91137597\n"
     ]
    }
   ],
   "source": [
    "print(len(aid_list))"
   ]
  },
  {
   "cell_type": "code",
   "execution_count": 6,
   "metadata": {},
   "outputs": [],
   "source": [
    "mapped_arnet_ids_to_acl = []\n",
    "id_to_name = {}\n",
    "name_to_id = {}\n",
    "for paper , citations in author_level.items():\n",
    "    for citation in citations:\n",
    "        arnet_id = citation['arnet_id']\n",
    "        if arnet_id not in id_to_name :\n",
    "            id_to_name[arnet_id] = []\n",
    "        if(citation['paper_name'] not in id_to_name[arnet_id]):\n",
    "            id_to_name[arnet_id].append(citation['paper_name'])\n",
    "        name_to_id[citation['paper_name']] = arnet_id\n",
    "        mapped_arnet_ids_to_acl.append(arnet_id)"
   ]
  },
  {
   "cell_type": "code",
   "execution_count": 7,
   "metadata": {},
   "outputs": [
    {
     "data": {
      "text/plain": [
       "29973"
      ]
     },
     "execution_count": 7,
     "metadata": {},
     "output_type": "execute_result"
    }
   ],
   "source": [
    "len(mapped_arnet_ids_to_acl)"
   ]
  },
  {
   "cell_type": "code",
   "execution_count": 8,
   "metadata": {},
   "outputs": [],
   "source": [
    "mapped_micro_ids = list(set(mapped_arnet_ids_to_acl).intersection(set(aid_list)))"
   ]
  },
  {
   "cell_type": "code",
   "execution_count": 9,
   "metadata": {},
   "outputs": [
    {
     "name": "stdout",
     "output_type": "stream",
     "text": [
      "9604\n"
     ]
    }
   ],
   "source": [
    "print(len(mapped_micro_ids))"
   ]
  },
  {
   "cell_type": "code",
   "execution_count": 43,
   "metadata": {},
   "outputs": [],
   "source": [
    "mapped_arnet_ids = list(set(mapped_arnet_ids_to_acl).intersection(set(ref_keys)))"
   ]
  },
  {
   "cell_type": "code",
   "execution_count": 44,
   "metadata": {},
   "outputs": [
    {
     "name": "stdout",
     "output_type": "stream",
     "text": [
      "25083\n"
     ]
    }
   ],
   "source": [
    "count = 0 \n",
    "non_uniq_arnet_ids = []\n",
    "for key in mapped_arnet_ids_to_acl :\n",
    "    if(key in mapped_arnet_ids) :\n",
    "        non_uniq_arnet_ids.append(key)\n",
    "        count+=1\n",
    "print(count)"
   ]
  },
  {
   "cell_type": "code",
   "execution_count": 45,
   "metadata": {},
   "outputs": [
    {
     "data": {
      "text/plain": [
       "13056"
      ]
     },
     "execution_count": 45,
     "metadata": {},
     "output_type": "execute_result"
    }
   ],
   "source": [
    "len(list(set(mapped_arnet_ids_to_acl)))"
   ]
  },
  {
   "cell_type": "code",
   "execution_count": 46,
   "metadata": {},
   "outputs": [
    {
     "data": {
      "text/plain": [
       "10564"
      ]
     },
     "execution_count": 46,
     "metadata": {},
     "output_type": "execute_result"
    }
   ],
   "source": [
    "len(mapped_arnet_ids)"
   ]
  },
  {
   "cell_type": "code",
   "execution_count": 47,
   "metadata": {},
   "outputs": [],
   "source": [
    "pickle.dump(id_to_name, open(\"pickles_data/arnetids_to_papername.pkl\", \"wb\"))"
   ]
  },
  {
   "cell_type": "code",
   "execution_count": 22,
   "metadata": {},
   "outputs": [],
   "source": [
    "f = open(\"pickles_data/total_titles.txt\")"
   ]
  },
  {
   "cell_type": "code",
   "execution_count": 23,
   "metadata": {},
   "outputs": [],
   "source": [
    "data = []\n",
    "for line in f :\n",
    "    data.append(line)"
   ]
  },
  {
   "cell_type": "code",
   "execution_count": 25,
   "metadata": {},
   "outputs": [],
   "source": [
    "titles = pickle.load(open(\"pickles_data/citation_titles.pkl\", \"rb\"))"
   ]
  },
  {
   "cell_type": "code",
   "execution_count": 26,
   "metadata": {},
   "outputs": [
    {
     "data": {
      "text/plain": [
       "1181"
      ]
     },
     "execution_count": 26,
     "metadata": {},
     "output_type": "execute_result"
    }
   ],
   "source": [
    "len(titles)"
   ]
  },
  {
   "cell_type": "code",
   "execution_count": 10,
   "metadata": {},
   "outputs": [],
   "source": [
    "def get_citations(folder):\n",
    "    citation_list = {}\n",
    "    for file in os.listdir(folder) :\n",
    "        tree = ET.parse(folder+file)\n",
    "        root = tree.getroot()\n",
    "        id = file[:8]\n",
    "        for element in root.iterfind(\"algorithm\"):\n",
    "            if(element.attrib['name']==\"ParsCit\"):\n",
    "                citlist = element.getchildren()\n",
    "                cits = citlist[0].getchildren()\n",
    "                citations = []\n",
    "                for cit in cits:\n",
    "                    cit_dict = {}\n",
    "                    if(cit.attrib['valid']==\"true\"):\n",
    "                        try :\n",
    "                            title = cit.find('title').text.lower()\n",
    "                        except :\n",
    "                            title = cit.find('rawString').text.lower()\n",
    "                        cit_dict['title'] = title\n",
    "                        cit_dict['cit'] = cit\n",
    "                        citations.append(cit_dict)\n",
    "                \n",
    "                citation_list[id] = citations\n",
    "            \n",
    "    return citation_list "
   ]
  },
  {
   "cell_type": "code",
   "execution_count": 11,
   "metadata": {},
   "outputs": [],
   "source": [
    "citations = get_citations(\"xmls/\")"
   ]
  },
  {
   "cell_type": "code",
   "execution_count": 12,
   "metadata": {},
   "outputs": [],
   "source": [
    "titles = []\n",
    "for id in citations :\n",
    "    papers = citations[id]\n",
    "    for paper in papers :\n",
    "        titles.append(paper['title'])"
   ]
  },
  {
   "cell_type": "code",
   "execution_count": 13,
   "metadata": {},
   "outputs": [
    {
     "data": {
      "text/plain": [
       "31943"
      ]
     },
     "execution_count": 13,
     "metadata": {},
     "output_type": "execute_result"
    }
   ],
   "source": [
    "len(titles)"
   ]
  },
  {
   "cell_type": "code",
   "execution_count": 15,
   "metadata": {},
   "outputs": [
    {
     "data": {
      "text/plain": [
       "25083"
      ]
     },
     "execution_count": 15,
     "metadata": {},
     "output_type": "execute_result"
    }
   ],
   "source": [
    "len(non_uniq_arnet_ids)"
   ]
  },
  {
   "cell_type": "code",
   "execution_count": 48,
   "metadata": {},
   "outputs": [],
   "source": [
    "arnet_names_v1 = []\n",
    "for id in mapped_arnet_ids :\n",
    "    arnet_names_v1.extend(id_to_name[id])"
   ]
  },
  {
   "cell_type": "code",
   "execution_count": 15,
   "metadata": {},
   "outputs": [],
   "source": [
    "micro_names = []\n",
    "for id in mapped_micro_ids :\n",
    "    micro_names.extend(id_to_name[id])"
   ]
  },
  {
   "cell_type": "code",
   "execution_count": 17,
   "metadata": {},
   "outputs": [
    {
     "name": "stdout",
     "output_type": "stream",
     "text": [
      "11244\n"
     ]
    }
   ],
   "source": [
    "print(len(micro_names))"
   ]
  },
  {
   "cell_type": "code",
   "execution_count": 61,
   "metadata": {},
   "outputs": [
    {
     "name": "stdout",
     "output_type": "stream",
     "text": [
      "25113\n",
      "25113\n",
      "12399\n"
     ]
    }
   ],
   "source": [
    "count_mapped = 0\n",
    "v1_mapped = []\n",
    "for tit in titles :\n",
    "    if tit in arnet_names_v1 :\n",
    "        v1_mapped.append(tit)\n",
    "        count_mapped+=1\n",
    "\n",
    "print(count_mapped)\n",
    "print(len(v1_mapped))\n",
    "print(len(set(v1_mapped)))"
   ]
  },
  {
   "cell_type": "code",
   "execution_count": 19,
   "metadata": {},
   "outputs": [
    {
     "name": "stdout",
     "output_type": "stream",
     "text": [
      "21595\n",
      "21595\n",
      "11240\n"
     ]
    }
   ],
   "source": [
    "count_mapped = 0\n",
    "micro_mapped = []\n",
    "for tit in titles :\n",
    "    if tit in micro_names :\n",
    "        micro_mapped.append(tit)\n",
    "        count_mapped+=1\n",
    "\n",
    "print(count_mapped)\n",
    "print(len(micro_mapped))\n",
    "print(len(set(micro_mapped)))"
   ]
  },
  {
   "cell_type": "code",
   "execution_count": 55,
   "metadata": {},
   "outputs": [],
   "source": [
    "arnet_names = list(name_to_id.keys())"
   ]
  },
  {
   "cell_type": "code",
   "execution_count": 62,
   "metadata": {},
   "outputs": [
    {
     "name": "stdout",
     "output_type": "stream",
     "text": [
      "30006\n",
      "30006\n",
      "15261\n"
     ]
    }
   ],
   "source": [
    "count_mapped = 0\n",
    "v2_mapped = []\n",
    "for tit in titles :\n",
    "    if tit in arnet_names :\n",
    "        v2_mapped.append(tit)\n",
    "        count_mapped+=1\n",
    "\n",
    "print(count_mapped)\n",
    "print(len(v2_mapped))\n",
    "print(len(set(v2_mapped)))"
   ]
  },
  {
   "cell_type": "code",
   "execution_count": 19,
   "metadata": {},
   "outputs": [
    {
     "name": "stdout",
     "output_type": "stream",
     "text": [
      "15261\n"
     ]
    }
   ],
   "source": [
    "print(len(name_to_id.keys()))"
   ]
  },
  {
   "cell_type": "code",
   "execution_count": 20,
   "metadata": {},
   "outputs": [],
   "source": [
    "arnet_name_id = []\n",
    "for name in name_to_id :\n",
    "    arnet_name_id.append(name_to_id[name])"
   ]
  },
  {
   "cell_type": "code",
   "execution_count": 23,
   "metadata": {},
   "outputs": [],
   "source": [
    "non_uniq_keys = []\n",
    "for id in arnet_name_id :\n",
    "    if(arnet_name_id.count(id)>1) :\n",
    "        non_uniq_keys.append(id)"
   ]
  },
  {
   "cell_type": "code",
   "execution_count": 35,
   "metadata": {},
   "outputs": [],
   "source": [
    "titles_arnet = []\n",
    "for id in non_uniq_arnet_ids :\n",
    "    titles_arnet.append(id_to_name[id])"
   ]
  },
  {
   "cell_type": "code",
   "execution_count": 20,
   "metadata": {},
   "outputs": [],
   "source": [
    "tags = pickle.load(open(\"pickles_data/baseline_tags.pkl\", \"rb\"))"
   ]
  },
  {
   "cell_type": "code",
   "execution_count": 21,
   "metadata": {},
   "outputs": [],
   "source": [
    "baselines = []\n",
    "for id in tags :\n",
    "    for paper in tags[id] :\n",
    "        if(paper['tag']==1) :\n",
    "            baselines.append(paper['paper_name'])"
   ]
  },
  {
   "cell_type": "code",
   "execution_count": 22,
   "metadata": {},
   "outputs": [
    {
     "name": "stdout",
     "output_type": "stream",
     "text": [
      "2953\n"
     ]
    }
   ],
   "source": [
    "print(len(baselines))"
   ]
  },
  {
   "cell_type": "code",
   "execution_count": 54,
   "metadata": {},
   "outputs": [
    {
     "name": "stdout",
     "output_type": "stream",
     "text": [
      "2484\n"
     ]
    }
   ],
   "source": [
    "count = 0\n",
    "for title in baselines :\n",
    "    if title in arnet_names_v1 :\n",
    "        count+=1\n",
    "\n",
    "print(count)"
   ]
  },
  {
   "cell_type": "code",
   "execution_count": 23,
   "metadata": {},
   "outputs": [
    {
     "name": "stdout",
     "output_type": "stream",
     "text": [
      "2145\n"
     ]
    }
   ],
   "source": [
    "count = 0\n",
    "for title in baselines :\n",
    "    if title in micro_names :\n",
    "        count+=1\n",
    "\n",
    "print(count)"
   ]
  },
  {
   "cell_type": "code",
   "execution_count": 57,
   "metadata": {},
   "outputs": [
    {
     "name": "stdout",
     "output_type": "stream",
     "text": [
      "2860\n"
     ]
    }
   ],
   "source": [
    "count = 0\n",
    "for title in baselines :\n",
    "    if title in arnet_names :\n",
    "        count+=1\n",
    "\n",
    "print(count)"
   ]
  },
  {
   "cell_type": "code",
   "execution_count": 58,
   "metadata": {},
   "outputs": [
    {
     "data": {
      "text/plain": [
       "469"
      ]
     },
     "execution_count": 58,
     "metadata": {},
     "output_type": "execute_result"
    }
   ],
   "source": [
    "2953-2484"
   ]
  },
  {
   "cell_type": "code",
   "execution_count": null,
   "metadata": {},
   "outputs": [],
   "source": []
  },
  {
   "cell_type": "code",
   "execution_count": 42,
   "metadata": {},
   "outputs": [
    {
     "name": "stdout",
     "output_type": "stream",
     "text": [
      "16944\n"
     ]
    }
   ],
   "source": [
    "print(len(list(set(titles))))"
   ]
  },
  {
   "cell_type": "code",
   "execution_count": 43,
   "metadata": {},
   "outputs": [],
   "source": [
    "titles_arnet_v2 = []\n",
    "for id in mapped_arnet_ids_to_acl :\n",
    "    titles_arnet_v2.append(id_to_name[id])"
   ]
  },
  {
   "cell_type": "code",
   "execution_count": 44,
   "metadata": {},
   "outputs": [
    {
     "data": {
      "text/plain": [
       "29973"
      ]
     },
     "execution_count": 44,
     "metadata": {},
     "output_type": "execute_result"
    }
   ],
   "source": [
    "len(titles_arnet_v2)"
   ]
  },
  {
   "cell_type": "code",
   "execution_count": 59,
   "metadata": {},
   "outputs": [
    {
     "name": "stdout",
     "output_type": "stream",
     "text": [
      "2484\n"
     ]
    }
   ],
   "source": [
    "count = 0\n",
    "list_base = []\n",
    "for title in baselines :\n",
    "    if(title in arnet_names_v1) :\n",
    "        list_base.append(title)\n",
    "        count+=1\n",
    "print(count)"
   ]
  },
  {
   "cell_type": "code",
   "execution_count": 60,
   "metadata": {},
   "outputs": [
    {
     "name": "stdout",
     "output_type": "stream",
     "text": [
      "469\n",
      "352\n"
     ]
    }
   ],
   "source": [
    "not_present = []\n",
    "for base in baselines :\n",
    "    if(base not in list_base) :\n",
    "        not_present.append(base)\n",
    "        \n",
    "print(len(not_present))\n",
    "print(len(set(not_present)))"
   ]
  },
  {
   "cell_type": "code",
   "execution_count": 47,
   "metadata": {},
   "outputs": [
    {
     "name": "stdout",
     "output_type": "stream",
     "text": [
      "1774\n"
     ]
    }
   ],
   "source": [
    "print(len(set(list_base)))"
   ]
  },
  {
   "cell_type": "code",
   "execution_count": 48,
   "metadata": {},
   "outputs": [
    {
     "name": "stdout",
     "output_type": "stream",
     "text": [
      "2178\n"
     ]
    }
   ],
   "source": [
    "print(len(set(baselines)))"
   ]
  },
  {
   "cell_type": "code",
   "execution_count": null,
   "metadata": {},
   "outputs": [],
   "source": []
  }
 ],
 "metadata": {
  "kernelspec": {
   "display_name": "Python 3",
   "language": "python",
   "name": "python3"
  },
  "language_info": {
   "codemirror_mode": {
    "name": "ipython",
    "version": 3
   },
   "file_extension": ".py",
   "mimetype": "text/x-python",
   "name": "python",
   "nbconvert_exporter": "python",
   "pygments_lexer": "ipython3",
   "version": "3.6.7"
  }
 },
 "nbformat": 4,
 "nbformat_minor": 2
}
