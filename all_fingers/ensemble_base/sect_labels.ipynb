{
 "cells": [
  {
   "cell_type": "code",
   "execution_count": 1,
   "metadata": {},
   "outputs": [],
   "source": [
    "import xml.etree.ElementTree as ET\n",
    "import re\n",
    "import pickle\n",
    "import json\n",
    "import os"
   ]
  },
  {
   "cell_type": "code",
   "execution_count": 2,
   "metadata": {},
   "outputs": [],
   "source": [
    "tag_to_type_mapping = {'bodyText':'body', 'listItem':'body', 'figureCaption':'figure_captions', 'tableCaption':'table_captions', 'table':'tables', 'figure':'figures', 'note':'note', 'footnote':'note'}"
   ]
  },
  {
   "cell_type": "code",
   "execution_count": 1,
   "metadata": {},
   "outputs": [],
   "source": [
    "def assign_section_heading_type(sectionHeader):\n",
    "\n",
    "    exp_regex = re.compile(r'experiment|empiric')\n",
    "    meth_regex = re.compile(r'method|approach|architect')\n",
    "    eval_regex = re.compile(r'evaluat|result|analys|compar|perform|discussion')\n",
    "    int_regex = re.compile(r'introduction')\n",
    "    rel_regex = re.compile(r'related work|background|previous work|study')\n",
    "    con_regex = re.compile(r'conclusion|future work')\n",
    "    ref_regex = re.compile(r'referenc')\n",
    "\n",
    "\n",
    "    if exp_regex.search(sectionHeader):\n",
    "        heading_type = 'experiment'\n",
    "    elif meth_regex.search(sectionHeader):\n",
    "        heading_type = 'method'\n",
    "    elif eval_regex.search(sectionHeader) :\n",
    "        heading_type = 'evaluation'\n",
    "    elif int_regex.search(sectionHeader):\n",
    "        heading_type = 'introduction'\n",
    "    elif rel_regex.search(sectionHeader):\n",
    "        heading_type = 'related_work'\n",
    "    elif con_regex.search(sectionHeader):\n",
    "        heading_type = 'conclusion'\n",
    "    elif ref_regex.search(sectionHeader):\n",
    "        heading_type = 'reference'\n",
    "    else:\n",
    "        heading_type = 'other_sections'\n",
    "        # print('section', sectionHeader.lstrip())\n",
    "\n",
    "    return heading_type"
   ]
  },
  {
   "cell_type": "code",
   "execution_count": 7,
   "metadata": {},
   "outputs": [],
   "source": [
    "def sectlabel(tree_root):\n",
    "\n",
    "    section_labeling = {'overall':'', 'experiment':{'body':'', 'figures':'', 'figure_captions':'', 'tables':'', 'table_captions':'', 'note':'', 'overall':''},\n",
    "                        'method':{'body':'', 'figures':'', 'figure_captions':'', 'tables':'', 'table_captions':'', 'note':'', 'overall':''} ,\n",
    "                        'conclusion':{'body':'', 'overall':'', 'figures':'', 'figure_captions':'', 'tables':'', 'table_captions':'', 'note':''},\n",
    "                        'evaluation':{'body':'', 'overall':'', 'figures':'', 'figure_captions':'', 'tables':'', 'table_captions':'', 'note':''},\n",
    "                        'other_sections':{'body':'', 'overall':'', 'figures':'', 'figure_captions':'', 'tables':'', 'table_captions':'', 'note':''}, \n",
    "                        'related_work':{'body':'', 'overall':'', 'figures':'', 'figure_captions':'', 'tables':'', 'table_captions':'', 'note':''}, \n",
    "                        'introduction':{'body':'', 'overall':'', 'figures':'', 'figure_captions':'', 'tables':'', 'table_captions':'', 'note':''}}\n",
    "\n",
    "    curr_section = {'experiment':-1, 'method':-1, 'introduction':-1, 'related_work':-1, 'other_sections':-1, 'evaluation':-1, 'conclusion':-1, 'reference':-1}\n",
    "\n",
    "    for element in tree_root.iterfind('variant/'):\n",
    "\n",
    "        if element.tag=='sectionHeader':\n",
    "\n",
    "            for sec in curr_section:\n",
    "                curr_section[sec]=-1\n",
    "\n",
    "            sectionHeader = element.text.lower()\n",
    "            heading_type = assign_section_heading_type(sectionHeader)\n",
    "\n",
    "            if heading_type=='reference':\n",
    "                continue\n",
    "\n",
    "            curr_section[heading_type] = 0\n",
    "\n",
    "        elif 'Header' in element.tag:\n",
    "\n",
    "            i = 0\n",
    "            while i<4:\n",
    "                if 'sub'*i+'sectionHeader'==element.tag:\n",
    "                    break\n",
    "                i+=1\n",
    "\n",
    "            for sec in curr_section:\n",
    "                if curr_section[sec]>=i:\n",
    "                    curr_section[sec]=-1\n",
    "\n",
    "            sectionHeader = element.text.lower()\n",
    "            heading_type = assign_section_heading_type(sectionHeader)\n",
    "\n",
    "            if heading_type=='reference':\n",
    "                continue\n",
    "\n",
    "            if curr_section[heading_type]>i or curr_section[heading_type]<0:\n",
    "                curr_section[heading_type] = i\n",
    "\n",
    "        elif element.tag in ['bodyText', 'listItem', 'figureCaption', 'tableCaption', 'table', 'figure', 'note', 'footnote']:\n",
    "            element_text = element.text.lower().replace('-\\n', '').replace('\\n', ' ').rstrip()+' '\n",
    "            section_labeling['overall']+=element_text\n",
    "            for sec in curr_section:\n",
    "                if curr_section[sec]>=0:\n",
    "                    if sec=='other_sections':\n",
    "                        if any([(curr_section[sec]>=0 and sec not in ['other_sections']) for sec in curr_section]):\n",
    "                            continue\n",
    "                    section_labeling[sec]['overall']+=element_text\n",
    "                    section_labeling[sec][tag_to_type_mapping[element.tag]]+=element_text\n",
    "\n",
    "        elif element.tag in ['title', 'author', 'affiliation', 'page', 'equation', 'reference', 'email', 'address', 'construct']:\n",
    "            pass\n",
    "\n",
    "        else:\n",
    "            # print('tag', element.tag)\n",
    "            pass\n",
    "\n",
    "    return section_labeling"
   ]
  },
  {
   "cell_type": "code",
   "execution_count": 8,
   "metadata": {},
   "outputs": [],
   "source": [
    "section_labels = {}\n",
    "for file in os.listdir('../../xmls/'):\n",
    "    tree = ET.parse(\"../../xmls/\"+file)\n",
    "    root = tree.getroot()\n",
    "    id = file[:8]\n",
    "    for element in root.iterfind(\"algorithm\"):\n",
    "        if(element.attrib['name']==\"SectLabel\"):\n",
    "            sect_labelling = sectlabel(element)\n",
    "            section_labels[id] = sect_labelling"
   ]
  },
  {
   "cell_type": "code",
   "execution_count": 10,
   "metadata": {},
   "outputs": [],
   "source": [
    "pickle.dump(section_labels, open(\"../pickles/en_section_labels.pkl\", \"wb\"))"
   ]
  },
  {
   "cell_type": "code",
   "execution_count": null,
   "metadata": {},
   "outputs": [],
   "source": []
  }
 ],
 "metadata": {
  "kernelspec": {
   "display_name": "Python3.6",
   "language": "python",
   "name": "python3.6"
  },
  "language_info": {
   "codemirror_mode": {
    "name": "ipython",
    "version": 3
   },
   "file_extension": ".py",
   "mimetype": "text/x-python",
   "name": "python",
   "nbconvert_exporter": "python",
   "pygments_lexer": "ipython3",
   "version": "3.6.7"
  }
 },
 "nbformat": 4,
 "nbformat_minor": 2
}
