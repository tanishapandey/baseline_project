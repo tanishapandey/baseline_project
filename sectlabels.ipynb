{
 "cells": [
  {
   "cell_type": "code",
   "execution_count": 1,
   "metadata": {},
   "outputs": [],
   "source": [
    "import xml.etree.ElementTree as ET\n",
    "import re\n",
    "import pickle\n",
    "import json\n",
    "import os"
   ]
  },
  {
   "cell_type": "code",
   "execution_count": 2,
   "metadata": {},
   "outputs": [],
   "source": [
    "tag_to_type_mapping = {'bodyText':'body', 'listItem':'body', 'figureCaption':'figure_captions', 'tableCaption':'table_captions', 'table':'tables', 'figure':'figures', 'note':'note', 'footnote':'note'}"
   ]
  },
  {
   "cell_type": "code",
   "execution_count": 3,
   "metadata": {},
   "outputs": [],
   "source": [
    "def assign_section_heading_type(sectionHeader):\n",
    "\n",
    "\texp_regex = re.compile(r'experiment|evaluat|result|empiric|analys|compar|perform|discussion')\n",
    "\tabs_regex = re.compile(r'abstract|summary')\n",
    "\tint_regex = re.compile(r'introduction')\n",
    "\trel_regex = re.compile(r'related work|background|previous work')\n",
    "\tcon_regex = re.compile(r'conclusion|future work')\n",
    "\tref_regex = re.compile(r'referenc')\n",
    "\n",
    "\n",
    "\tif exp_regex.search(sectionHeader):\n",
    "\t\theading_type = 'experiment'\n",
    "\telif abs_regex.search(sectionHeader):\n",
    "\t\theading_type = 'abstract'\n",
    "\telif int_regex.search(sectionHeader):\n",
    "\t\theading_type = 'introduction'\n",
    "\telif rel_regex.search(sectionHeader):\n",
    "\t\theading_type = 'related_work'\n",
    "\telif con_regex.search(sectionHeader):\n",
    "\t\theading_type = 'conclusion'\n",
    "\telif ref_regex.search(sectionHeader):\n",
    "\t\theading_type = 'reference'\n",
    "\telse:\n",
    "\t\theading_type = 'other_sections'\n",
    "\t\t# print('section', sectionHeader.lstrip())\n",
    "\n",
    "\treturn heading_type"
   ]
  },
  {
   "cell_type": "code",
   "execution_count": 4,
   "metadata": {},
   "outputs": [],
   "source": [
    "def sectlabel(tree_root):\n",
    "\n",
    "    section_labeling = {'overall':'', 'experiment':{'body':'', 'figures':'', 'figure_captions':'', 'tables':'', 'table_captions':'', 'note':'', 'overall':''}, 'conclusion':{'body':'', 'overall':'', 'figures':'', 'figure_captions':'', 'tables':'', 'table_captions':'', 'note':''}, 'discussion':{'body':'', 'overall':'', 'figures':'', 'figure_captions':'', 'tables':'', 'table_captions':'', 'note':''}, 'other_sections':{'body':'', 'overall':'', 'figures':'', 'figure_captions':'', 'tables':'', 'table_captions':'', 'note':''}, 'related_work':{'body':'', 'overall':'', 'figures':'', 'figure_captions':'', 'tables':'', 'table_captions':'', 'note':''}, 'abstract':{'body':'', 'overall':'', 'figures':'', 'figure_captions':'', 'tables':'', 'table_captions':'', 'note':''}, 'introduction':{'body':'', 'overall':'', 'figures':'', 'figure_captions':'', 'tables':'', 'table_captions':'', 'note':''}}\n",
    "\n",
    "    curr_section = {'experiment':-1, 'abstract':-1, 'introduction':-1, 'related_work':-1, 'other_sections':-1, 'discussion':-1, 'conclusion':-1, 'reference':-1}\n",
    "\n",
    "    for element in tree_root.iterfind('variant/'):\n",
    "\n",
    "        if element.tag=='sectionHeader':\n",
    "\n",
    "            for sec in curr_section:\n",
    "                curr_section[sec]=-1\n",
    "\n",
    "            sectionHeader = element.text.lower()\n",
    "            heading_type = assign_section_heading_type(sectionHeader)\n",
    "\n",
    "            if heading_type=='reference':\n",
    "                continue\n",
    "\n",
    "            curr_section[heading_type] = 0\n",
    "\n",
    "        elif 'Header' in element.tag:\n",
    "\n",
    "            i = 0\n",
    "            while i<4:\n",
    "                if 'sub'*i+'sectionHeader'==element.tag:\n",
    "                    break\n",
    "                i+=1\n",
    "\n",
    "            for sec in curr_section:\n",
    "                if curr_section[sec]>=i:\n",
    "                    curr_section[sec]=-1\n",
    "\n",
    "            sectionHeader = element.text.lower()\n",
    "            heading_type = assign_section_heading_type(sectionHeader)\n",
    "\n",
    "            if heading_type=='reference':\n",
    "                continue\n",
    "\n",
    "            if curr_section[heading_type]>i or curr_section[heading_type]<0:\n",
    "                curr_section[heading_type] = i\n",
    "\n",
    "        elif element.tag in ['bodyText', 'listItem', 'figureCaption', 'tableCaption', 'table', 'figure', 'note', 'footnote']:\n",
    "            element_text = element.text.lower().replace('-\\n', '').replace('\\n', ' ').rstrip()+' '\n",
    "            section_labeling['overall']+=element_text\n",
    "            for sec in curr_section:\n",
    "                if curr_section[sec]>=0:\n",
    "                    if sec=='other_sections':\n",
    "                        if any([(curr_section[sec]>=0 and sec not in ['other_sections']) for sec in curr_section]):\n",
    "                            continue\n",
    "                    section_labeling[sec]['overall']+=element_text\n",
    "                    section_labeling[sec][tag_to_type_mapping[element.tag]]+=element_text\n",
    "\n",
    "        elif element.tag in ['title', 'author', 'affiliation', 'page', 'equation', 'reference', 'email', 'address', 'construct']:\n",
    "            pass\n",
    "\n",
    "        else:\n",
    "            # print('tag', element.tag)\n",
    "            pass\n",
    "\n",
    "    return section_labeling"
   ]
  },
  {
   "cell_type": "code",
   "execution_count": 5,
   "metadata": {},
   "outputs": [],
   "source": [
    "section_labels = {}\n",
    "for file in os.listdir('xmls/'):\n",
    "    tree = ET.parse(\"xmls/\"+file)\n",
    "    root = tree.getroot()\n",
    "    id = file[:8]\n",
    "    for element in root.iterfind(\"algorithm\"):\n",
    "        if(element.attrib['name']==\"SectLabel\"):\n",
    "            sect_labelling = sectlabel(element)\n",
    "            section_labels[id] = sect_labelling"
   ]
  },
  {
   "cell_type": "code",
   "execution_count": 6,
   "metadata": {},
   "outputs": [],
   "source": [
    "pickle.dump(section_labels, open(\"pickles_data/section_labels.pkl\", \"wb\"))"
   ]
  },
  {
   "cell_type": "code",
   "execution_count": null,
   "metadata": {},
   "outputs": [],
   "source": []
  }
 ],
 "metadata": {
  "kernelspec": {
   "display_name": "Python 3",
   "language": "python",
   "name": "python3"
  },
  "language_info": {
   "codemirror_mode": {
    "name": "ipython",
    "version": 3
   },
   "file_extension": ".py",
   "mimetype": "text/x-python",
   "name": "python",
   "nbconvert_exporter": "python",
   "pygments_lexer": "ipython3",
   "version": "3.6.7"
  }
 },
 "nbformat": 4,
 "nbformat_minor": 2
}
