{
 "cells": [
  {
   "cell_type": "code",
   "execution_count": 1,
   "metadata": {},
   "outputs": [],
   "source": [
    "import pickle\n",
    "import os\n",
    "import xml.etree.ElementTree as ET\n",
    "import pandas as pd\n",
    "import re\n",
    "import shutil"
   ]
  },
  {
   "cell_type": "code",
   "execution_count": 2,
   "metadata": {},
   "outputs": [],
   "source": [
    "def match_titles(title1, title2):\n",
    "    title1 = re.sub(r'[\\W_]+', '', title1).lower()\n",
    "    title2 = re.sub(r'[\\W_]+', '', title2).lower()\n",
    "    if title1 in title2 or title2 in title1:\n",
    "        return True\n",
    "    return False"
   ]
  },
  {
   "cell_type": "code",
   "execution_count": 3,
   "metadata": {},
   "outputs": [],
   "source": [
    "def get_baselines():\n",
    "    f = open(\"./annotation/annotations2\")\n",
    "    data = []\n",
    "    for line in f:\n",
    "        data.append(line)\n",
    "\n",
    "    dataset = {}\n",
    "    for line in data:\n",
    "        x = line.split(\"_\")\n",
    "        dataset[x[0]] = x[1:]\n",
    "        \n",
    "    f = open(\"./annotation/django_annotations\")\n",
    "    data = []\n",
    "    for line in f:\n",
    "        data.append(line)\n",
    "        \n",
    "    for line in data :\n",
    "        x = line.split(\"_\")\n",
    "        if(len(x)>1) :\n",
    "            dataset[x[0]] = x[1:]\n",
    "            \n",
    "    df = pd.read_excel(\"./annotation/Baselines.xlsx\")\n",
    "    ar = []\n",
    "    for i in range(586) :\n",
    "        if(df['Baseline Papers'][i]!='None' and type(df['Baseline Papers'][i])!=type(0.1)):\n",
    "            ar.append(i)\n",
    "    \n",
    "    for ind in ar :\n",
    "        paperId = df['PaperId'][ind]\n",
    "        if(len(paperId)!=8):\n",
    "            paperId = paperId[:-1]      \n",
    "        x = df['Baseline Papers'][ind].split(\"_\")\n",
    "        \n",
    "        dataset[paperId] = x\n",
    "            \n",
    "    return dataset"
   ]
  },
  {
   "cell_type": "code",
   "execution_count": 4,
   "metadata": {},
   "outputs": [],
   "source": [
    "baselines = get_baselines()"
   ]
  },
  {
   "cell_type": "code",
   "execution_count": 5,
   "metadata": {},
   "outputs": [
    {
     "data": {
      "text/plain": [
       "1445"
      ]
     },
     "execution_count": 5,
     "metadata": {},
     "output_type": "execute_result"
    }
   ],
   "source": [
    "len(baselines.keys())"
   ]
  },
  {
   "cell_type": "code",
   "execution_count": 6,
   "metadata": {},
   "outputs": [],
   "source": [
    "def get_citations_tags(baselines) :\n",
    "    citation_list = {}\n",
    "    for file in os.listdir(\"xmls_total/\") :\n",
    "        tree = ET.parse(\"xmls_total/\"+file)\n",
    "        root = tree.getroot()\n",
    "        id = file[:8]\n",
    "        if id in baselines :\n",
    "            for element in root.iterfind(\"algorithm\"):\n",
    "                if(element.attrib['name']==\"ParsCit\"):\n",
    "                    citlist = element.getchildren()\n",
    "                    cits = citlist[0].getchildren()\n",
    "                    citations = []\n",
    "                    for cit in cits:\n",
    "                        cit_dict = {}\n",
    "                        if(cit.attrib['valid']==\"true\"):\n",
    "                            try :\n",
    "                                title = cit.find('title').text.lower()\n",
    "                            except :\n",
    "                                title = cit.find('rawString').text.lower()\n",
    "                            cit_dict['paper_name'] = title\n",
    "                            check = 0\n",
    "                            for base in baselines[id] :\n",
    "                                if(match_titles(base, title)):\n",
    "                                    check = 1\n",
    "                                    cit_dict['tag'] = 1\n",
    "                                    break\n",
    "                            if(check==0) :\n",
    "                                cit_dict['tag']= 0\n",
    "                            concat_context = \"\"\n",
    "                            for context in cit.findall(\"contexts/context\"):\n",
    "                                concat_context+=context.text.lower()+\" \"\n",
    "                            cit_dict['context'] = concat_context\n",
    "                            if(len(concat_context)!=0):\n",
    "                                citations.append(cit_dict)\n",
    "                    citation_list[id] = citations\n",
    "                \n",
    "    return citation_list"
   ]
  },
  {
   "cell_type": "code",
   "execution_count": 7,
   "metadata": {},
   "outputs": [],
   "source": [
    "citations = get_citations_tags(baselines)"
   ]
  },
  {
   "cell_type": "code",
   "execution_count": 8,
   "metadata": {},
   "outputs": [
    {
     "name": "stdout",
     "output_type": "stream",
     "text": [
      "1389\n"
     ]
    }
   ],
   "source": [
    "print(len(citations.keys()))"
   ]
  },
  {
   "cell_type": "code",
   "execution_count": 9,
   "metadata": {},
   "outputs": [],
   "source": [
    "non_baselines = []\n",
    "baselines = []\n",
    "dataset = []\n",
    "map_nb = {}\n",
    "map_b = {}\n",
    "map_nb_opp = {}\n",
    "map_b_opp = {}\n",
    "for key in citations :\n",
    "#     if(key in citations) :\n",
    "#         print(\"a\")\n",
    "        papers = citations[key]\n",
    "        for paper in papers :\n",
    "            ar = []\n",
    "            ar.append(paper['paper_name'])\n",
    "            ar.append(paper['tag'])\n",
    "            ar.append(paper['context'])\n",
    "            dataset.append(ar)\n",
    "            if(paper['tag']==0):\n",
    "                non_baselines.append(paper['context'])\n",
    "                map_nb[paper['paper_name']+\"_\"+key] = len(non_baselines)-1\n",
    "                map_nb_opp[len(non_baselines)-1] = paper['paper_name']+\"_\"+key\n",
    "            else :\n",
    "                baselines.append(paper['context'])\n",
    "                map_b[paper['paper_name']+\"_\"+key] = len(baselines)-1  \n",
    "                map_b_opp[len(baselines)-1] = paper['paper_name']+\"_\"+key"
   ]
  },
  {
   "cell_type": "code",
   "execution_count": 10,
   "metadata": {},
   "outputs": [
    {
     "name": "stdout",
     "output_type": "stream",
     "text": [
      "29201\n"
     ]
    }
   ],
   "source": [
    "print(len(non_baselines))"
   ]
  },
  {
   "cell_type": "code",
   "execution_count": 11,
   "metadata": {},
   "outputs": [],
   "source": [
    "train_mapping = pickle.load(open(\"pickles_data/filenames_mapping.pkl\", \"rb\"))\n",
    "test_mapping = pickle.load(open(\"pickles_data/filename_map_test.pkl\", \"rb\"))"
   ]
  },
  {
   "cell_type": "code",
   "execution_count": 12,
   "metadata": {},
   "outputs": [],
   "source": [
    "armap = []\n",
    "for x in train_mapping :\n",
    "    filename = x.split(\"/\")[-1]\n",
    "    class_name = x.split(\"/\")[-2]\n",
    "    if(class_name==\"class0\"):\n",
    "        armap.append(map_nb_opp[int(filename.split(\".\")[0])])\n",
    "    else :\n",
    "        armap.append(map_b_opp[int(filename.split(\".\")[0])])        "
   ]
  },
  {
   "cell_type": "code",
   "execution_count": 13,
   "metadata": {},
   "outputs": [],
   "source": [
    "armap_test = []\n",
    "for x in test_mapping :\n",
    "    filename = x.split(\"/\")[-1]\n",
    "    class_name = x.split(\"/\")[-2]\n",
    "    if(class_name==\"class0\"):\n",
    "        armap_test.append(map_nb_opp[int(filename.split(\".\")[0])])\n",
    "    else :\n",
    "        armap_test.append(map_b_opp[int(filename.split(\".\")[0])])        "
   ]
  },
  {
   "cell_type": "code",
   "execution_count": 15,
   "metadata": {},
   "outputs": [],
   "source": [
    "output_tr = pickle.load(open(\"pickles/bert_embedar_tr_512.pkl\", \"rb\"))\n",
    "output_ts = pickle.load(open(\"pickles/bert_embedar_ts_512.pkl\", \"rb\"))"
   ]
  },
  {
   "cell_type": "code",
   "execution_count": 16,
   "metadata": {},
   "outputs": [],
   "source": [
    "dataset_bert = {}\n",
    "for i in range(len(output_tr)):\n",
    "    id = armap[i].split(\"_\")[1]\n",
    "    title = armap[i].split(\"_\")[0]\n",
    "    if(id not in dataset_bert):\n",
    "        dataset_bert[id] = []\n",
    "    data = {}\n",
    "    data['paper_name'] = title\n",
    "    data['embedding'] = output_tr[i]\n",
    "    dataset_bert[id].append(data)\n",
    "    \n",
    "for i in range(len(output_ts)):\n",
    "    id = armap_test[i].split(\"_\")[1]\n",
    "    title = armap_test[i].split(\"_\")[0]\n",
    "    if(id not in dataset_bert):\n",
    "        dataset_bert[id] = []\n",
    "    data = {}\n",
    "    data['paper_name'] = title\n",
    "    data['embedding'] = output_ts[i]\n",
    "    dataset_bert[id].append(data)  "
   ]
  },
  {
   "cell_type": "code",
   "execution_count": 17,
   "metadata": {},
   "outputs": [
    {
     "data": {
      "text/plain": [
       "1367"
      ]
     },
     "execution_count": 17,
     "metadata": {},
     "output_type": "execute_result"
    }
   ],
   "source": [
    "len(dataset_bert.keys())"
   ]
  },
  {
   "cell_type": "code",
   "execution_count": 18,
   "metadata": {},
   "outputs": [],
   "source": [
    "pickle.dump(dataset_bert, open(\"pickles_data/bert_embeddings_512.pkl\", \"wb\"))"
   ]
  },
  {
   "cell_type": "code",
   "execution_count": null,
   "metadata": {},
   "outputs": [],
   "source": []
  }
 ],
 "metadata": {
  "kernelspec": {
   "display_name": "Python 3",
   "language": "python",
   "name": "python3"
  },
  "language_info": {
   "codemirror_mode": {
    "name": "ipython",
    "version": 3
   },
   "file_extension": ".py",
   "mimetype": "text/x-python",
   "name": "python",
   "nbconvert_exporter": "python",
   "pygments_lexer": "ipython3",
   "version": "3.6.7"
  }
 },
 "nbformat": 4,
 "nbformat_minor": 2
}
