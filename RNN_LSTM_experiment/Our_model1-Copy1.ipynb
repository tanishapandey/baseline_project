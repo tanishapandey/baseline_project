{
 "cells": [
  {
   "cell_type": "code",
   "execution_count": 1,
   "metadata": {},
   "outputs": [],
   "source": [
    "import torch\n",
    "import torch.nn as nn\n",
    "import torch.nn.functional as func\n",
    "from scipy.io import loadmat\n",
    "import numpy as np\n",
    "from sklearn.feature_extraction import image\n",
    "import pandas as pd\n",
    "from nltk.corpus import stopwords, wordnet as wn\n",
    "from nltk.stem import WordNetLemmatizer\n",
    "from nltk.stem import PorterStemmer\n",
    "from nltk.tokenize import word_tokenize, sent_tokenize\n",
    "import string\n",
    "import gensim"
   ]
  },
  {
   "cell_type": "code",
   "execution_count": 2,
   "metadata": {},
   "outputs": [],
   "source": [
    "import re\n",
    "import pickle\n",
    "import json\n",
    "import xml.etree.ElementTree as ET\n",
    "from nltk.corpus import stopwords, wordnet as wn\n",
    "from nltk.stem import WordNetLemmatizer\n",
    "from nltk.stem import PorterStemmer\n",
    "import os\n",
    "from nltk.tokenize import word_tokenize, sent_tokenize\n",
    "import numpy as np\n",
    "import math\n",
    "from difflib import SequenceMatcher\n",
    "import pandas as pd"
   ]
  },
  {
   "cell_type": "code",
   "execution_count": 3,
   "metadata": {},
   "outputs": [],
   "source": [
    "lemmatizer = WordNetLemmatizer()\n",
    "stemmer = PorterStemmer()\n",
    "year_regex = re.compile(r'((19[0-9]{2})|(20[0-9]{2}))[a-z]?')\n",
    "conversion_dict = {}\n",
    "stop_words = [',', '.', '(', ')', ':', '-', \"+\", \";\", \"a\", \"about\", \"al\", \"al.\", \"all\", \n",
    "\t\"already\", \"also\", \"although\", \"am\", \"an\", \"and\", \"another\", \"any\", \"anyhow\", \"are\", \n",
    "\t\"aren\", \"aren't\", \"around\", \"as\", \"at\", \"back\", \"be\", \"because\", \"been\", \n",
    "\t\"being\", \"beyond\", \"but\", \"by\", \"can\", \"cannot\", \"cant\", \"co\", \"con\", \"could\", \"couldn\", \n",
    "\t\"couldnt\", \"d\", \"de\", \"did\", \"didn\", \"didn't\", \"do\", \"does\", \"doesn\", \"doesn't\", \n",
    "\t\"doing\", \"don\", \"don't\", \"done\", \"due\", \"each\", \"either\", \"else\", \"elsewhere\", \"et\", \n",
    "\t\"etc\", \"even\", \"ever\", \"except\", \"for\", \"found\", \"from\", \"further\", \"had\", \"hadn\", \n",
    "\t\"hadn't\", \"has\", \"hasn\", \"hasn't\", \"hasnt\", \"have\", \"haven\", \"haven't\", \"having\", \n",
    "\t\"he\", \"hence\", \"her\", \"here\", \"hereafter\", \"hereby\", \"hers\", \n",
    "\t\"herself\", \"him\", \"himself\", \"his\", \"how\", \"however\", \"i\", \"ie\", \"if\", \"in\", \"inc\", \n",
    "\t\"indeed\", \"interest\", \"into\", \"is\", \"isn\", \"isn't\", \"it\", \"it's\", \"its\", \"itself\", \n",
    "\t\"just\", \"ltd\", \"ll\", \"m\", \"may\", \"me\", \"meanwhile\", \"might\", \"mightn\", \n",
    "\t\"mightn't\", \"mine\", \"moreover\", \"most\", \"mostly\", \"move\", \"much\", \"must\", \"mustn\", \n",
    "\t\"mustn't\", \"my\", \"myself\", \"name\", \"namely\", \"need\", \"needn\", \"needn't\", \"neither\", \n",
    "\t\"nevertheless\", \"no\", \"nobody\", \"noone\", \"nor\", \"not\", \"now\", \"nowhere\", \"o\", \"of\", \n",
    "\t\"off\", \"often\", \"on\", \"only\", \"onto\", \"or\", \"other\", \"others\", \"otherwise\", \"our\", \"own\", \n",
    "\t\"per\", \"perhaps\", \"put\", \"rather\", \"re\", \"s\", \"same\", \"see\", \"seem\", \"seemed\", \n",
    "\t\"seeming\", \"seems\", \"serious\", \"she\", \"should\", \"shouldn\", \"shouldn't\", \"since\", \n",
    "\t\"sincere\", \"so\", \"some\", \"somehow\", \"someone\", \"something\", \"somewhere\", \"still\", \n",
    "\t\"such\", \"t\", \"take\", \"than\", \"that\", \"that'll\", \"the\", \"their\", \"theirs\", \n",
    "\t\"them\", \"themselves\", \"then\", \"thence\", \"there\", \"thereafter\", \"thereby\", \"therefore\", \n",
    "\t\"therein\", \"thereupon\", \"these\", \"they\", \"this\", \"those\", \"though\", \"throughout\", \n",
    "\t\"thru\", \"thus\", \"to\", \"together\", \"too\", \"toward\", \"towards\", \"un\", \"until\", \"upon\", \n",
    "\t\"us\", \"ve\", \"very\", \"via\", \"was\", \"wasn\", \"wasn't\", \"we\", \"well\", \"were\", \"weren\", \n",
    "\t\"weren't\", \"what\", \"whatever\", \"when\", \"whence\", \"whenever\", \"where\", \"whereafter\", \n",
    "\t\"whereas\", \"whereby\", \"wherein\", \"whereupon\", \"wherever\", \"whether\", \"which\", \"while\", \n",
    "\t\"whither\", \"who\", \"whoever\", \"whole\", \"whom\", \"whose\", \"why\", \"will\", \"with\", \"within\", \n",
    "\t\"without\", \"won\", \"won't\", \"would\", \"wouldn\", \"wouldn't\", \"y\", \"yet\", \"you\", \"your\", \n",
    "\t\"yours\", \"yourself\", \"yourselves\", \"from SVM import SVCone\", \"two\", \"three\", \"four\", \"five\", \"six\", \"seven\",\n",
    "\t\"eight\", \"nine\", \"zero\", \"between\", 'below', 'ourselves', \"you'll\", 'again', 'once', 'over', 'shan', 'few', \n",
    "    'against', 'before', 'out', 'down', 'both', 'up', \"you've\", \"shan't\", \"you're\", \"should've\", 'ours', 'ma', \n",
    "    \"couldn't\", 'during', 'more', 'ain', 'through', 'after', 'above', \"she's\", \"you'd\", 'under' ]"
   ]
  },
  {
   "cell_type": "code",
   "execution_count": 4,
   "metadata": {},
   "outputs": [],
   "source": [
    "def get_citations(folder):\n",
    "    citation_list = {}\n",
    "    for file in os.listdir(folder) :\n",
    "        tree = ET.parse(folder+file)\n",
    "        root = tree.getroot()\n",
    "        id = file[:8]\n",
    "        for element in root.iterfind(\"algorithm\"):\n",
    "            if(element.attrib['name']==\"ParsCit\"):\n",
    "                citlist = element.getchildren()\n",
    "                cits = citlist[0].getchildren()\n",
    "                citations = []\n",
    "                for cit in cits:\n",
    "                    cit_dict = {}\n",
    "                    if(cit.attrib['valid']==\"true\"):\n",
    "                        try :\n",
    "                            title = cit.find('title').text.lower()\n",
    "                        except :\n",
    "                            title = cit.find('rawString').text.lower()\n",
    "                        cit_dict['title'] = title\n",
    "                        cit_dict['cit'] = cit\n",
    "                        citations.append(cit_dict)\n",
    "                \n",
    "                citation_list[id] = citations\n",
    "            \n",
    "    return citation_list "
   ]
  },
  {
   "cell_type": "code",
   "execution_count": 5,
   "metadata": {},
   "outputs": [],
   "source": [
    "citations = get_citations(\"../xmls/\")"
   ]
  },
  {
   "cell_type": "code",
   "execution_count": 6,
   "metadata": {},
   "outputs": [],
   "source": [
    "def get_words(string, cit_auths=None):\n",
    "\n",
    "    string = string.replace('-', '').lower()\n",
    "    context_words = word_tokenize(string)\n",
    "    final_context_words = []\n",
    "\n",
    "    for word in context_words:\n",
    "        if word in stop_words:\n",
    "            continue\n",
    "        if re.fullmatch(year_regex, word): #or match_auths(word, cit_auths):\n",
    "            continue\n",
    "        if re.fullmatch(r'[0-9]+([.][0-9]+)?', word):\n",
    "            word = '<number>'\n",
    "            final_context_words.append(word)\n",
    "        elif 'this_citation' in word:\n",
    "            final_context_words.append('<this_citation>')\n",
    "        elif re.fullmatch(r'[a-z]+', word):\n",
    "            original_word = word\n",
    "            final_word = lemmatizer.lemmatize(word)\n",
    "            \n",
    "            if final_word not in conversion_dict:\n",
    "                conversion_dict[final_word] = {}\n",
    "\n",
    "            if original_word not in conversion_dict[final_word]:\n",
    "                conversion_dict[final_word][original_word] = 0\n",
    "            conversion_dict[final_word][original_word]+=1\n",
    "\n",
    "            final_context_words.append(final_word)\n",
    "\n",
    "    return final_context_words"
   ]
  },
  {
   "cell_type": "code",
   "execution_count": 7,
   "metadata": {},
   "outputs": [],
   "source": [
    "def get_contexts(citations) :\n",
    "    dataset = {}\n",
    "    count = 0\n",
    "    for key in citations.keys():\n",
    "        context_list = []\n",
    "        for cit in citations[key] :\n",
    "            dict1 = {}\n",
    "            dict1['paper_name'] = cit['title']\n",
    "            dict1['context'] = \"\"\n",
    "            for context in cit['cit'].findall('contexts/context') :\n",
    "                text = context.text.lower()\n",
    "                citstr = context.get('citStr').lower()\n",
    "                text = text.replace(citstr, \"this_citation\")\n",
    "                dict1['context']+= text+\" \"\n",
    "            dict1['context'] = get_words(dict1['context'])\n",
    "            context_list.append(dict1)\n",
    "        dataset[key] = context_list\n",
    "        count+=1\n",
    "        if(count%100==0) :\n",
    "            print(count)\n",
    "    return dataset"
   ]
  },
  {
   "cell_type": "code",
   "execution_count": 8,
   "metadata": {},
   "outputs": [],
   "source": [
    "contexts = pickle.load(open(\"contexts.pkl\",\"rb\"))"
   ]
  },
  {
   "cell_type": "code",
   "execution_count": 9,
   "metadata": {},
   "outputs": [],
   "source": [
    "embeddings_dict = {}\n",
    "with open(\"glove.6B.100d.txt\", 'r', encoding=\"utf-8\") as f:\n",
    "    for line in f:\n",
    "        values = line.split()\n",
    "        word = values[0]\n",
    "        vector = np.asarray(values[1:], \"float32\")\n",
    "        embeddings_dict[word] = vector"
   ]
  },
  {
   "cell_type": "code",
   "execution_count": 10,
   "metadata": {},
   "outputs": [],
   "source": [
    "mapping = {}\n",
    "mapping_rev = {}\n",
    "values = []\n",
    "count = 0\n",
    "for key in contexts :\n",
    "    papers = contexts[key]\n",
    "    for pap in papers :\n",
    "        name = pap['paper_name']\n",
    "        words = pap['context']\n",
    "        if(len(words)>0) :\n",
    "            mapping[key+\"_|_\"+name] = count\n",
    "            mapping_rev[count] = key+\"_|_\"+name\n",
    "            count+=1\n",
    "            embed = []\n",
    "            if(len(words)>250) :\n",
    "                words = words[:250]\n",
    "            for word in words :\n",
    "                if(word in embeddings_dict) :\n",
    "                    embed.append(embeddings_dict[word])\n",
    "                else :\n",
    "                    embed.append(embeddings_dict['unk'])\n",
    "            diff = 250-len(words)\n",
    "            if(diff>0) :\n",
    "                for i in range(diff) :\n",
    "                    embed.append(np.zeros((100,)))\n",
    "            values.append(embed)  "
   ]
  },
  {
   "cell_type": "code",
   "execution_count": 11,
   "metadata": {},
   "outputs": [
    {
     "name": "stdout",
     "output_type": "stream",
     "text": [
      "27635\n"
     ]
    }
   ],
   "source": [
    "print(len(values))"
   ]
  },
  {
   "cell_type": "code",
   "execution_count": 12,
   "metadata": {},
   "outputs": [],
   "source": [
    "tags = pickle.load(open(\"../pickles_data/baseline_tags.pkl\",\"rb\"))"
   ]
  },
  {
   "cell_type": "code",
   "execution_count": 13,
   "metadata": {},
   "outputs": [],
   "source": [
    "output = []\n",
    "for i in range(count) :\n",
    "    key,name = mapping_rev[i].split(\"_|_\")\n",
    "    papers = tags[key]\n",
    "    for pap in papers :\n",
    "        if(pap['paper_name']==name) :\n",
    "            output.append(pap['tag'])\n",
    "            break"
   ]
  },
  {
   "cell_type": "code",
   "execution_count": 14,
   "metadata": {},
   "outputs": [
    {
     "name": "stdout",
     "output_type": "stream",
     "text": [
      "27635\n"
     ]
    }
   ],
   "source": [
    "print(len(output))"
   ]
  },
  {
   "cell_type": "code",
   "execution_count": 15,
   "metadata": {},
   "outputs": [],
   "source": [
    "citation_worthy = pickle.load(open(\"base_pickles/citation_worthy.pkl\", \"rb\"))\n",
    "section_contexts = pickle.load(open(\"our_model/section_con_loc_feat.pkl\", \"rb\"))"
   ]
  },
  {
   "cell_type": "code",
   "execution_count": 16,
   "metadata": {},
   "outputs": [
    {
     "name": "stdout",
     "output_type": "stream",
     "text": [
      "100\n",
      "200\n",
      "300\n",
      "400\n",
      "500\n",
      "600\n",
      "700\n",
      "800\n",
      "900\n",
      "1000\n",
      "1100\n",
      "1200\n",
      "1300\n",
      "1400\n",
      "1500\n",
      "1600\n",
      "1700\n",
      "1800\n",
      "1900\n",
      "2000\n",
      "2100\n",
      "2200\n",
      "2300\n",
      "2400\n",
      "2500\n",
      "2600\n",
      "2700\n",
      "2800\n"
     ]
    }
   ],
   "source": [
    "context_values = []\n",
    "context_out = []\n",
    "count1 = 0\n",
    "# max1 = 0\n",
    "# map_val = {'experiment':0, 'conclusion':1, 'other_sections':2, 'related_work':3, 'method':4, 'introduction':5, 'evaluation':6}\n",
    "\n",
    "for key in section_contexts :\n",
    "    for paper in section_contexts[key] :\n",
    "        words = get_words(paper[\"context\"])\n",
    "        if(len(words)>250) :\n",
    "            words = words[:250]\n",
    "        embed = []\n",
    "        for word in words :\n",
    "            if(word in embeddings_dict) :\n",
    "                embed.append(embeddings_dict[word])\n",
    "            else :\n",
    "                embed.append(embeddings_dict['unk'])\n",
    "        diff = 250-len(words)\n",
    "        if(diff>0) :\n",
    "            for i in range(diff) :\n",
    "                embed.append(np.zeros((100,)))\n",
    "        context_values.append(embed) \n",
    "        context_out.append(paper[\"loc_feat\"])\n",
    "        \n",
    "    count1+=1\n",
    "    if(count1%100==0) :\n",
    "        print(count1)\n",
    "                \n",
    "        \n",
    "# for context in section_contexts :\n",
    "#     words = get_words(context)\n",
    "#     if(len(words)>max1) :\n",
    "#         max1 = len(words)\n",
    "#     embed = []\n",
    "#     for word in words :\n",
    "#         if(word in embeddings_dict) :\n",
    "#             embed.append(embeddings_dict[word])\n",
    "#         else :\n",
    "#             embed.append(embeddings_dict['unk'])\n",
    "#     diff = 250-len(words)\n",
    "#     if(diff>0) :\n",
    "#         for i in range(diff) :\n",
    "#             embed.append(embeddings_dict['unk'])\n",
    "#     context_values.append(embed)  \n",
    "#     context_out.append(map_val[section_contexts[context]])\n",
    "#     count1+=1\n",
    "#     if(count1%5000==0) :\n",
    "#         print(count1)\n",
    "# print(max1)"
   ]
  },
  {
   "cell_type": "code",
   "execution_count": 17,
   "metadata": {},
   "outputs": [
    {
     "name": "stdout",
     "output_type": "stream",
     "text": [
      "59233\n"
     ]
    }
   ],
   "source": [
    "print(len(context_values))"
   ]
  },
  {
   "cell_type": "code",
   "execution_count": 18,
   "metadata": {},
   "outputs": [],
   "source": [
    "# context_values = np.array(context_values)"
   ]
  },
  {
   "cell_type": "code",
   "execution_count": 19,
   "metadata": {},
   "outputs": [],
   "source": [
    "# context_out = np.array(context_out)"
   ]
  },
  {
   "cell_type": "code",
   "execution_count": 20,
   "metadata": {},
   "outputs": [],
   "source": [
    "# pickle.dump(context_values, open(\"our_model/context_values.pkl\",\"wb\"))\n",
    "# pickle.dump(context_out, open(\"our_model/context_out.pkl\",\"wb\"))"
   ]
  },
  {
   "cell_type": "code",
   "execution_count": 21,
   "metadata": {},
   "outputs": [],
   "source": [
    "# worthy_values = []\n",
    "# worthy_out = []\n",
    "# count2 = 0\n",
    "# max1 = 0\n",
    "# all_zeros = []\n",
    "# all_ones = []\n",
    "# all_data = []\n",
    "# for line in citation_worthy :\n",
    "#     if(citation_worthy[line]==1) :\n",
    "#         all_ones.append(line)\n",
    "#     else :\n",
    "#         all_zeros.append(line)\n",
    "# #     words = get_words(line)\n",
    "# #     if(len(words)>max1) :\n",
    "# #         max1 = len(words)\n",
    "\n",
    "# ar = np.random.choice(len(all_zeros), len(all_ones))\n",
    "# for x in ar :\n",
    "#     all_data.append(all_zeros[x])\n",
    "    \n",
    "# for y in all_ones :\n",
    "#     all_data.append(y)\n",
    "    \n",
    "# avg = 0\n",
    "# for line in all_data :\n",
    "#     words = get_words(line)\n",
    "#     embed = []\n",
    "#     if(len(words)>250) :\n",
    "#         for i in range(250) :\n",
    "#             word = words[i]\n",
    "#             if(word in embeddings_dict) :\n",
    "#                 embed.append(embeddings_dict[word])\n",
    "#             else :\n",
    "#                 embed.append(embeddings_dict['unk'])\n",
    "#     else :\n",
    "#         for word in words :\n",
    "#             if(word in embeddings_dict) :\n",
    "#                 embed.append(embeddings_dict[word])\n",
    "#             else :\n",
    "#                 embed.append(embeddings_dict['unk'])\n",
    "#         diff = 250 - len(words)\n",
    "#         if(diff>0) :\n",
    "#             for i in range(diff) :\n",
    "#                 embed.append(embeddings_dict['unk'])\n",
    "#     worthy_values.append(embed)  \n",
    "#     worthy_out.append(citation_worthy[line])"
   ]
  },
  {
   "cell_type": "code",
   "execution_count": 22,
   "metadata": {},
   "outputs": [],
   "source": [
    "size = len(values)\n",
    "trainset = values[:int(0.8*size)]\n",
    "trainlabel = output[:int(0.8*size)]\n",
    "testset = values[int(0.8*size):]\n",
    "testlabel = output[int(0.8*size):]"
   ]
  },
  {
   "cell_type": "code",
   "execution_count": 23,
   "metadata": {},
   "outputs": [],
   "source": [
    "main_vals = np.random.choice(len(trainset), len(context_values)-len(trainset))\n",
    "# section_vals = np.random.choice(len(context_values),len(worthy_values)-len(context_values))"
   ]
  },
  {
   "cell_type": "code",
   "execution_count": 24,
   "metadata": {},
   "outputs": [],
   "source": [
    "for x in main_vals :\n",
    "    trainset.append(trainset[x])\n",
    "    trainlabel.append(trainlabel[x])"
   ]
  },
  {
   "cell_type": "code",
   "execution_count": 25,
   "metadata": {},
   "outputs": [],
   "source": [
    "# for y in section_vals :\n",
    "#     context_values.append(context_values[y])\n",
    "#     context_out.append(context_out[y])"
   ]
  },
  {
   "cell_type": "code",
   "execution_count": 26,
   "metadata": {},
   "outputs": [
    {
     "name": "stdout",
     "output_type": "stream",
     "text": [
      "59233\n",
      "59233\n",
      "59233\n",
      "59233\n"
     ]
    }
   ],
   "source": [
    "print(len(trainset))\n",
    "print(len(trainlabel))\n",
    "print(len(context_values))\n",
    "print(len(context_out))\n",
    "# print(len(worthy_values))\n",
    "# print(len(worthy_out))"
   ]
  },
  {
   "cell_type": "code",
   "execution_count": 27,
   "metadata": {},
   "outputs": [],
   "source": [
    "check = 0\n",
    "for x in trainset :\n",
    "    for y in x :\n",
    "        if(y.shape[0]!=100) :\n",
    "            check =1\n",
    "            print(y)\n",
    "            break\n",
    "    if(check==1) :\n",
    "        break\n",
    "            "
   ]
  },
  {
   "cell_type": "code",
   "execution_count": 28,
   "metadata": {},
   "outputs": [],
   "source": [
    "class Attention(nn.Module):\n",
    "    def __init__(self, feature_dim, step_dim, bias=True, **kwargs):\n",
    "        super(Attention, self).__init__(**kwargs)\n",
    "        \n",
    "        self.supports_masking = True\n",
    "\n",
    "        self.bias = bias\n",
    "        self.feature_dim = feature_dim\n",
    "        self.step_dim = step_dim\n",
    "        self.features_dim = 0\n",
    "        \n",
    "        weight = torch.zeros(feature_dim, 1)\n",
    "        nn.init.kaiming_uniform_(weight)\n",
    "        self.weight = nn.Parameter(weight)\n",
    "        \n",
    "        if bias:\n",
    "            self.b = nn.Parameter(torch.zeros(step_dim))\n",
    "        \n",
    "    def forward(self, x, mask=None):\n",
    "        feature_dim = self.feature_dim \n",
    "        step_dim = self.step_dim\n",
    "\n",
    "        eij = torch.mm(\n",
    "            x.contiguous().view(-1, feature_dim), \n",
    "            self.weight\n",
    "        ).view(-1, step_dim)\n",
    "        \n",
    "        if self.bias:\n",
    "            eij = eij + self.b\n",
    "\n",
    "#         print(\"eij\",eij.shape)\n",
    "#         print(\"x\",x.contiguous().view(-1,feature_dim).shape)\n",
    "            \n",
    "        eij = torch.tanh(eij)\n",
    "        a = torch.exp(eij)\n",
    "        \n",
    "        if mask is not None:\n",
    "            a = a * mask\n",
    "\n",
    "        a = a / (torch.sum(a, 1, keepdim=True) + 1e-10)\n",
    "\n",
    "        weighted_input = x * torch.unsqueeze(a, -1)\n",
    "        return torch.sum(weighted_input, 1)\n",
    "\n",
    "class Attention_Net(nn.Module):\n",
    "    def __init__(self):\n",
    "        super(Attention_Net, self).__init__()\n",
    "        drp = 0.2\n",
    "        embed_size = 100\n",
    "        # self.embedding = nn.Embedding(max_features, embed_size)\n",
    "        # # self.embedding.weight = nn.Parameter(torch.tensor(embedding_matrix, dtype=torch.float32))\n",
    "        # self.embedding.weight.requires_grad = False\n",
    "\n",
    "        # self.embedding_dropout = nn.Dropout2d(0.1)\n",
    "        self.lstm = nn.LSTM(embed_size, 50, bidirectional=True, batch_first=True)\n",
    "#         self.lstm2 = nn.LSTM(64*2, 32, bidirectional=True, batch_first=True)\n",
    "\n",
    "        self.attention_layer = Attention(100, 250)\n",
    "        \n",
    "        self.main_linear = nn.Linear(100 , 32)\n",
    "        self.relu = nn.ReLU()\n",
    "        self.main_out = nn.Linear(32, 2)\n",
    "        self.section_linear = nn.Linear(100 , 20)\n",
    "        self.section_out = nn.Linear(20, 7)\n",
    "#         self.worthy_linear = nn.Linear(100 , 20)\n",
    "#         self.worthy_out = nn.Linear(20, 2)\n",
    "        self.main_dropout = nn.Dropout2d(0.2)\n",
    "#         self.worthy_dropout = nn.Dropout2d(0.2)\n",
    "        self.section_dropout = nn.Dropout2d(0.2)\n",
    "\n",
    "    def forward(self, x, task_no):\n",
    "        if(task_no==0) :\n",
    "            h_embedding = x\n",
    "            h_lstm, _ = self.lstm(h_embedding)\n",
    "            h_lstm_atten = self.attention_layer(h_lstm)\n",
    "            conc = self.relu(self.main_linear(h_lstm_atten))\n",
    "            conc = self.main_dropout(conc)\n",
    "            out = self.main_out(conc)\n",
    "            return out\n",
    "        else :\n",
    "            h_embedding = x\n",
    "            h_lstm, _ = self.lstm(h_embedding)\n",
    "            h_lstm_atten = self.attention_layer(h_lstm)\n",
    "            conc = self.relu(self.section_linear(h_lstm_atten))\n",
    "            conc = self.section_dropout(conc)\n",
    "            out = self.section_out(conc)\n",
    "            return out   \n",
    "#         else :\n",
    "#             h_embedding = x\n",
    "#             h_lstm, _ = self.lstm(h_embedding)\n",
    "#             h_lstm_atten = self.attention_layer(h_lstm)\n",
    "#             conc = self.relu(self.worthy_linear(h_lstm_atten))\n",
    "#             conc = self.worthy_dropout(conc)\n",
    "#             out = self.worthy_out(conc)\n",
    "#             return out             "
   ]
  },
  {
   "cell_type": "code",
   "execution_count": 29,
   "metadata": {},
   "outputs": [],
   "source": [
    "# device = torch.device(\"cuda:0\" if torch.cuda.is_available() else \"cpu\")\n",
    "# print(torch.cuda.is_available())\n",
    "# trainset = torch.as_tensor(trainset).to(device)\n",
    "# trainlabel = torch.as_tensor(trainlabel).to(device)"
   ]
  },
  {
   "cell_type": "code",
   "execution_count": 30,
   "metadata": {},
   "outputs": [],
   "source": [
    "# context_values = torch.as_tensor(context_values).to(device)\n",
    "# context_out = torch.as_tensor(context_out).to(device)"
   ]
  },
  {
   "cell_type": "code",
   "execution_count": null,
   "metadata": {},
   "outputs": [],
   "source": [
    "from torch.utils.data import TensorDataset, DataLoader, RandomSampler, SequentialSampler\n",
    "batch_size = 128\n",
    "\n",
    "train_data = TensorDataset(torch.as_tensor(trainset), torch.as_tensor(trainlabel), torch.as_tensor(context_values), torch.as_tensor(context_out))\n",
    "train_sampler = RandomSampler(train_data)\n",
    "train_dataloader = DataLoader(train_data, sampler=train_sampler, batch_size=batch_size)\n",
    "\n",
    "val_data = TensorDataset(torch.as_tensor(testset), torch.as_tensor(testlabel))\n",
    "val_sampler = SequentialSampler(val_data)\n",
    "val_dataloader = DataLoader(val_data, sampler=val_sampler, batch_size=128)"
   ]
  },
  {
   "cell_type": "code",
   "execution_count": null,
   "metadata": {},
   "outputs": [],
   "source": [
    "from sklearn.metrics import classification_report\n",
    "\n",
    "def eval_model(model, val_loader) :\n",
    "    final_out = []\n",
    "    final_lab = []\n",
    "\n",
    "    for idx, (val_input, val_label) in enumerate(val_loader):\n",
    "        val_input = val_input.type(torch.FloatTensor)\n",
    "        val_input = val_input.cuda()\n",
    "        output = model(val_input,0)\n",
    "        output = output.cpu().detach().numpy()\n",
    "        val_label = val_label.cpu().detach().numpy()\n",
    "        ar= []\n",
    "        for i in range(output.shape[0]) :\n",
    "            index = -1\n",
    "            max_val = -1\n",
    "            for j in range(len(output[i])) :\n",
    "                if(output[i][j]>max_val) :\n",
    "                    index = j\n",
    "                    max_val = output[i][j]\n",
    "            ar.append(index)\n",
    "    \n",
    "        val_label = list(val_label)\n",
    "        final_out.extend(ar)\n",
    "        final_lab.extend(val_label)\n",
    "\n",
    "        \n",
    "    return classification_report(final_lab, final_out)"
   ]
  },
  {
   "cell_type": "code",
   "execution_count": null,
   "metadata": {},
   "outputs": [],
   "source": [
    "learning_rate = 0.01\n",
    "num_epochs = 25\n",
    "device = torch.device(\"cuda:0\" if torch.cuda.is_available() else \"cpu\")\n",
    "torch.cuda.empty_cache()\n",
    "model = Attention_Net().to(device)\n",
    "# weights = [1.0, 5.0]\n",
    "# class_weights = torch.FloatTensor(weights).cuda()\n",
    "criterion1 = nn.CrossEntropyLoss()\n",
    "criterion2 = nn.CrossEntropyLoss()\n",
    "# criterion3 = nn.CrossEntropyLoss()\n",
    "optimizer = torch.optim.Adam(model.parameters(), lr=learning_rate)\n",
    "\n",
    "for epoch in range(num_epochs):\n",
    "    loss_val = 0\n",
    "    for batch_id, (train_input, train_label, con_val, con_label) in enumerate(train_dataloader):\n",
    "        optimizer.zero_grad() \n",
    "        train_input = train_input.type(torch.FloatTensor)\n",
    "        train_input = train_input.cuda()\n",
    "        output1 = model(train_input,0)\n",
    "        train_label = train_label.type(torch.LongTensor)\n",
    "        train_label = train_label.cuda()\n",
    "        loss1 = criterion1(output1, train_label)\n",
    "        \n",
    "        con_val = con_val.type(torch.FloatTensor)\n",
    "        con_val = con_val.cuda()\n",
    "        output2 = model(con_val,1)\n",
    "        values, indices = torch.max(con_label, 1)\n",
    "        indices = indices.type(torch.LongTensor)\n",
    "        indices = indices.cuda()\n",
    "        loss2 = criterion2(output2, indices)\n",
    "        loss = loss1+0.05*loss2\n",
    "        loss_val += loss.data\n",
    "        \n",
    "#         worthy_val = worthy_val.type(torch.FloatTensor)\n",
    "#         worthy_val = worthy_val.cuda()\n",
    "#         output3 = model(worthy_val,2)\n",
    "#         worthy_label = train_label.type(torch.LongTensor)\n",
    "#         worthy_label = train_label.cuda()\n",
    "#         loss3 = criterion3(output3, worthy_label)\n",
    "        \n",
    "        loss = loss1 + 0.1*loss2 \n",
    "        loss.backward()\n",
    "        optimizer.step()\n",
    "        \n",
    "\n",
    "    \n",
    "            \n",
    "        del train_input\n",
    "        del train_label\n",
    "        del con_val\n",
    "        del con_label\n",
    "#         del worthy_val\n",
    "#         del worthy_label\n",
    "        del output1\n",
    "        del output2\n",
    "#         del output3\n",
    "        del loss1\n",
    "        del loss2\n",
    "#         del loss3\n",
    "        del loss\n",
    "        torch.cuda.empty_cache()\n",
    "        \n",
    "    print('Epoch [{}/{}], Loss:{:.4f}'\n",
    "        .format(epoch+1, num_epochs, loss_val))\n",
    "    print(\"classification_report\")\n",
    "    print(eval_model(model,val_dataloader))\n",
    "    print(\"--------------------------------------------------------------\")\n",
    "    # losses.append(loss.data)"
   ]
  },
  {
   "cell_type": "code",
   "execution_count": null,
   "metadata": {},
   "outputs": [],
   "source": []
  }
 ],
 "metadata": {
  "kernelspec": {
   "display_name": "Python3.6",
   "language": "python",
   "name": "python3.6"
  },
  "language_info": {
   "codemirror_mode": {
    "name": "ipython",
    "version": 3
   },
   "file_extension": ".py",
   "mimetype": "text/x-python",
   "name": "python",
   "nbconvert_exporter": "python",
   "pygments_lexer": "ipython3",
   "version": "3.6.7"
  }
 },
 "nbformat": 4,
 "nbformat_minor": 2
}
