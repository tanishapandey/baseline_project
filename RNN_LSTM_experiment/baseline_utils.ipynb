{
 "cells": [
  {
   "cell_type": "code",
   "execution_count": 2,
   "metadata": {},
   "outputs": [],
   "source": [
    "import re\n",
    "import pickle\n",
    "import json\n",
    "import xml.etree.ElementTree as ET\n",
    "from nltk.corpus import stopwords, wordnet as wn\n",
    "from nltk.stem import WordNetLemmatizer\n",
    "from nltk.stem import PorterStemmer\n",
    "import os\n",
    "from nltk.tokenize import word_tokenize, sent_tokenize\n",
    "import numpy as np\n",
    "import math\n",
    "from difflib import SequenceMatcher\n",
    "import pandas as pd"
   ]
  },
  {
   "cell_type": "code",
   "execution_count": 3,
   "metadata": {},
   "outputs": [],
   "source": [
    "lemmatizer = WordNetLemmatizer()\n",
    "stemmer = PorterStemmer()\n",
    "year_regex = re.compile(r'((19[0-9]{2})|(20[0-9]{2}))[a-z]?')\n",
    "conversion_dict = {}\n",
    "stop_words = [',', '.', '(', ')', ':', '-', \"+\", \";\", \"a\", \"about\", \"al\", \"al.\", \"all\", \n",
    "\t\"already\", \"also\", \"although\", \"am\", \"an\", \"and\", \"another\", \"any\", \"anyhow\", \"are\", \n",
    "\t\"aren\", \"aren't\", \"around\", \"as\", \"at\", \"back\", \"be\", \"because\", \"been\", \n",
    "\t\"being\", \"beyond\", \"but\", \"by\", \"can\", \"cannot\", \"cant\", \"co\", \"con\", \"could\", \"couldn\", \n",
    "\t\"couldnt\", \"d\", \"de\", \"did\", \"didn\", \"didn't\", \"do\", \"does\", \"doesn\", \"doesn't\", \n",
    "\t\"doing\", \"don\", \"don't\", \"done\", \"due\", \"each\", \"either\", \"else\", \"elsewhere\", \"et\", \n",
    "\t\"etc\", \"even\", \"ever\", \"except\", \"for\", \"found\", \"from\", \"further\", \"had\", \"hadn\", \n",
    "\t\"hadn't\", \"has\", \"hasn\", \"hasn't\", \"hasnt\", \"have\", \"haven\", \"haven't\", \"having\", \n",
    "\t\"he\", \"hence\", \"her\", \"here\", \"hereafter\", \"hereby\", \"hers\", \n",
    "\t\"herself\", \"him\", \"himself\", \"his\", \"how\", \"however\", \"i\", \"ie\", \"if\", \"in\", \"inc\", \n",
    "\t\"indeed\", \"interest\", \"into\", \"is\", \"isn\", \"isn't\", \"it\", \"it's\", \"its\", \"itself\", \n",
    "\t\"just\", \"ltd\", \"ll\", \"m\", \"may\", \"me\", \"meanwhile\", \"might\", \"mightn\", \n",
    "\t\"mightn't\", \"mine\", \"moreover\", \"most\", \"mostly\", \"move\", \"much\", \"must\", \"mustn\", \n",
    "\t\"mustn't\", \"my\", \"myself\", \"name\", \"namely\", \"need\", \"needn\", \"needn't\", \"neither\", \n",
    "\t\"nevertheless\", \"no\", \"nobody\", \"noone\", \"nor\", \"not\", \"now\", \"nowhere\", \"o\", \"of\", \n",
    "\t\"off\", \"often\", \"on\", \"only\", \"onto\", \"or\", \"other\", \"others\", \"otherwise\", \"our\", \"own\", \n",
    "\t\"per\", \"perhaps\", \"put\", \"rather\", \"re\", \"s\", \"same\", \"see\", \"seem\", \"seemed\", \n",
    "\t\"seeming\", \"seems\", \"serious\", \"she\", \"should\", \"shouldn\", \"shouldn't\", \"since\", \n",
    "\t\"sincere\", \"so\", \"some\", \"somehow\", \"someone\", \"something\", \"somewhere\", \"still\", \n",
    "\t\"such\", \"t\", \"take\", \"than\", \"that\", \"that'll\", \"the\", \"their\", \"theirs\", \n",
    "\t\"them\", \"themselves\", \"then\", \"thence\", \"there\", \"thereafter\", \"thereby\", \"therefore\", \n",
    "\t\"therein\", \"thereupon\", \"these\", \"they\", \"this\", \"those\", \"though\", \"throughout\", \n",
    "\t\"thru\", \"thus\", \"to\", \"together\", \"too\", \"toward\", \"towards\", \"un\", \"until\", \"upon\", \n",
    "\t\"us\", \"ve\", \"very\", \"via\", \"was\", \"wasn\", \"wasn't\", \"we\", \"well\", \"were\", \"weren\", \n",
    "\t\"weren't\", \"what\", \"whatever\", \"when\", \"whence\", \"whenever\", \"where\", \"whereafter\", \n",
    "\t\"whereas\", \"whereby\", \"wherein\", \"whereupon\", \"wherever\", \"whether\", \"which\", \"while\", \n",
    "\t\"whither\", \"who\", \"whoever\", \"whole\", \"whom\", \"whose\", \"why\", \"will\", \"with\", \"within\", \n",
    "\t\"without\", \"won\", \"won't\", \"would\", \"wouldn\", \"wouldn't\", \"y\", \"yet\", \"you\", \"your\", \n",
    "\t\"yours\", \"yourself\", \"yourselves\", \"from SVM import SVCone\", \"two\", \"three\", \"four\", \"five\", \"six\", \"seven\",\n",
    "\t\"eight\", \"nine\", \"zero\", \"between\", 'below', 'ourselves', \"you'll\", 'again', 'once', 'over', 'shan', 'few', \n",
    "    'against', 'before', 'out', 'down', 'both', 'up', \"you've\", \"shan't\", \"you're\", \"should've\", 'ours', 'ma', \n",
    "    \"couldn't\", 'during', 'more', 'ain', 'through', 'after', 'above', \"she's\", \"you'd\", 'under' ]"
   ]
  },
  {
   "cell_type": "code",
   "execution_count": 4,
   "metadata": {},
   "outputs": [],
   "source": [
    "import xml.etree.ElementTree as ET\n",
    "import re\n",
    "import pickle\n",
    "import json\n",
    "import os"
   ]
  },
  {
   "cell_type": "code",
   "execution_count": 5,
   "metadata": {},
   "outputs": [],
   "source": [
    "def match_titles(title1, title2):\n",
    "    title1 = re.sub(r'[\\W_]+', '', title1).lower()\n",
    "    title2 = re.sub(r'[\\W_]+', '', title2).lower()\n",
    "    if title1 in title2 or title2 in title1:\n",
    "        return True\n",
    "    return False"
   ]
  },
  {
   "cell_type": "code",
   "execution_count": 6,
   "metadata": {},
   "outputs": [],
   "source": [
    "tag_to_type_mapping = {'bodyText':'body', 'listItem':'body', 'figureCaption':'figure_captions', 'tableCaption':'table_captions', 'table':'tables', 'figure':'figures', 'note':'note', 'footnote':'note'}"
   ]
  },
  {
   "cell_type": "code",
   "execution_count": 7,
   "metadata": {},
   "outputs": [],
   "source": [
    "def assign_section_heading_type(sectionHeader):\n",
    "\n",
    "    exp_regex = re.compile(r'experiment|empiric')\n",
    "    meth_regex = re.compile(r'method|approach|architect')\n",
    "    eval_regex = re.compile(r'evaluat|result|analys|compar|perform|discussion')\n",
    "    int_regex = re.compile(r'introduction')\n",
    "    rel_regex = re.compile(r'related work|background|previous work|study')\n",
    "    con_regex = re.compile(r'conclusion|future work')\n",
    "    ref_regex = re.compile(r'referenc')\n",
    "\n",
    "\n",
    "    if exp_regex.search(sectionHeader):\n",
    "        heading_type = 'experiment'\n",
    "    elif meth_regex.search(sectionHeader):\n",
    "        heading_type = 'method'\n",
    "    elif eval_regex.search(sectionHeader) :\n",
    "        heading_type = 'evaluation'\n",
    "    elif int_regex.search(sectionHeader):\n",
    "        heading_type = 'introduction'\n",
    "    elif rel_regex.search(sectionHeader):\n",
    "        heading_type = 'related_work'\n",
    "    elif con_regex.search(sectionHeader):\n",
    "        heading_type = 'conclusion'\n",
    "    elif ref_regex.search(sectionHeader):\n",
    "        heading_type = 'reference'\n",
    "    else:\n",
    "        heading_type = 'other_sections'\n",
    "        # print('section', sectionHeader.lstrip())\n",
    "\n",
    "    return heading_type"
   ]
  },
  {
   "cell_type": "code",
   "execution_count": 8,
   "metadata": {},
   "outputs": [],
   "source": [
    "def sectlabel(tree_root):\n",
    "\n",
    "    section_labeling = {'overall':'', 'experiment':{'body':'', 'figures':'', 'figure_captions':'', 'tables':'', 'table_captions':'', 'note':'', 'overall':''},\n",
    "                        'method':{'body':'', 'figures':'', 'figure_captions':'', 'tables':'', 'table_captions':'', 'note':'', 'overall':''} ,\n",
    "                        'conclusion':{'body':'', 'overall':'', 'figures':'', 'figure_captions':'', 'tables':'', 'table_captions':'', 'note':''},\n",
    "                        'evaluation':{'body':'', 'overall':'', 'figures':'', 'figure_captions':'', 'tables':'', 'table_captions':'', 'note':''},\n",
    "                        'other_sections':{'body':'', 'overall':'', 'figures':'', 'figure_captions':'', 'tables':'', 'table_captions':'', 'note':''}, \n",
    "                        'related_work':{'body':'', 'overall':'', 'figures':'', 'figure_captions':'', 'tables':'', 'table_captions':'', 'note':''}, \n",
    "                        'introduction':{'body':'', 'overall':'', 'figures':'', 'figure_captions':'', 'tables':'', 'table_captions':'', 'note':''}}\n",
    "\n",
    "    curr_section = {'experiment':-1, 'method':-1, 'introduction':-1, 'related_work':-1, 'other_sections':-1, 'evaluation':-1, 'conclusion':-1, 'reference':-1}\n",
    "\n",
    "    for element in tree_root.iterfind('variant/'):\n",
    "\n",
    "        if element.tag=='sectionHeader':\n",
    "\n",
    "            for sec in curr_section:\n",
    "                curr_section[sec]=-1\n",
    "\n",
    "            sectionHeader = element.text.lower()\n",
    "            heading_type = assign_section_heading_type(sectionHeader)\n",
    "\n",
    "            if heading_type=='reference':\n",
    "                continue\n",
    "\n",
    "            curr_section[heading_type] = 0\n",
    "\n",
    "        elif 'Header' in element.tag:\n",
    "\n",
    "            i = 0\n",
    "            while i<4:\n",
    "                if 'sub'*i+'sectionHeader'==element.tag:\n",
    "                    break\n",
    "                i+=1\n",
    "\n",
    "            for sec in curr_section:\n",
    "                if curr_section[sec]>=i:\n",
    "                    curr_section[sec]=-1\n",
    "\n",
    "            sectionHeader = element.text.lower()\n",
    "            heading_type = assign_section_heading_type(sectionHeader)\n",
    "\n",
    "            if heading_type=='reference':\n",
    "                continue\n",
    "\n",
    "            if curr_section[heading_type]>i or curr_section[heading_type]<0:\n",
    "                curr_section[heading_type] = i\n",
    "\n",
    "        elif element.tag in ['bodyText', 'listItem', 'figureCaption', 'tableCaption', 'table', 'figure', 'note', 'footnote']:\n",
    "            element_text = element.text.lower().replace('-\\n', '').replace('\\n', ' ').rstrip()+' '\n",
    "            section_labeling['overall']+=element_text\n",
    "            for sec in curr_section:\n",
    "                if curr_section[sec]>=0:\n",
    "                    if sec=='other_sections':\n",
    "                        if any([(curr_section[sec]>=0 and sec not in ['other_sections']) for sec in curr_section]):\n",
    "                            continue\n",
    "                    section_labeling[sec]['overall']+=element_text\n",
    "                    section_labeling[sec][tag_to_type_mapping[element.tag]]+=element_text\n",
    "\n",
    "        elif element.tag in ['title', 'author', 'affiliation', 'page', 'equation', 'reference', 'email', 'address', 'construct']:\n",
    "            pass\n",
    "\n",
    "        else:\n",
    "            # print('tag', element.tag)\n",
    "            pass\n",
    "\n",
    "    return section_labeling"
   ]
  },
  {
   "cell_type": "code",
   "execution_count": 9,
   "metadata": {},
   "outputs": [],
   "source": [
    "section_labels = {}\n",
    "for file in os.listdir('../xmls/'):\n",
    "    tree = ET.parse(\"../xmls/\"+file)\n",
    "    root = tree.getroot()\n",
    "    id = file[:8]\n",
    "    for element in root.iterfind(\"algorithm\"):\n",
    "        if(element.attrib['name']==\"SectLabel\"):\n",
    "            sect_labelling = sectlabel(element)\n",
    "            section_labels[id] = sect_labelling"
   ]
  },
  {
   "cell_type": "code",
   "execution_count": 10,
   "metadata": {},
   "outputs": [],
   "source": [
    "for file in os.listdir('../all_acl_xmls/all_files/') :\n",
    "    try :\n",
    "        tree = ET.parse(\"../all_acl_xmls/all_files/\"+file)\n",
    "        root = tree.getroot()\n",
    "        id = file[:8]\n",
    "        for element in root.iterfind(\"algorithm\"):\n",
    "            if(element.attrib['name']==\"SectLabel\"):\n",
    "                sect_labelling = sectlabel(element)\n",
    "                section_labels[id] = sect_labelling\n",
    "    except :\n",
    "        pass"
   ]
  },
  {
   "cell_type": "code",
   "execution_count": 11,
   "metadata": {},
   "outputs": [
    {
     "name": "stdout",
     "output_type": "stream",
     "text": [
      "2801\n"
     ]
    }
   ],
   "source": [
    "print(len(section_labels.keys()))"
   ]
  },
  {
   "cell_type": "code",
   "execution_count": 12,
   "metadata": {},
   "outputs": [],
   "source": [
    "pickle.dump(section_labels, open(\"base_pickles/section_labels.pkl\", \"wb\"))"
   ]
  },
  {
   "cell_type": "code",
   "execution_count": 42,
   "metadata": {},
   "outputs": [],
   "source": [
    "def get_section_feature(section_labels, citations):\n",
    "    dataset = {}\n",
    "    dataset1 = {}\n",
    "    sent_list = []\n",
    "    count = 0 \n",
    "    for key in citations.keys() :\n",
    "        for cit in citations[key] :\n",
    "            for context in cit['cit'].findall('contexts/context') :\n",
    "                context_text = context.text.lower()\n",
    "                section_feature = {'experiment':0, 'conclusion':0, 'other_sections':0, 'related_work':0, 'method':0, 'introduction':0, 'evaluation':0}\n",
    "                sents = sent_tokenize(context_text)\n",
    "                citstr = context.get('citStr').lower()\n",
    "                con_sent = \"\"\n",
    "                for sent in sents :\n",
    "                    if(citstr in sent.lower()) :\n",
    "                        count+=1\n",
    "                        con_sent = sent\n",
    "                        sent_list.append(sent)\n",
    "                        break\n",
    "                        \n",
    "                for section in section_labels[key]:\n",
    "                    if section=='overall':\n",
    "                        continue\n",
    "                    section_text = \"\"\n",
    "                    for subsection in section_labels[key][section]:\n",
    "                        text = section_labels[key][section][subsection]\n",
    "                        section_text += text + \" \"\n",
    "                    if match_titles(context_text, section_text) :\n",
    "                        dataset[context_text] = section\n",
    "                        dataset1[con_sent] = section\n",
    "                        break\n",
    "    \n",
    "    print(count)\n",
    "    return dataset, dataset1, sent_list"
   ]
  },
  {
   "cell_type": "code",
   "execution_count": 21,
   "metadata": {},
   "outputs": [],
   "source": [
    "def get_section_feat_our(section_labels, citations) :\n",
    "    dataset = {}\n",
    "    dataset1 = {}\n",
    "    sent_list = []\n",
    "    for key in citations.keys() :\n",
    "        all_list = []\n",
    "        all_list1 = []\n",
    "        for cit in citations[key] :\n",
    "            section_feature = {'experiment':0, 'conclusion':0, 'other_sections':0, 'related_work':0, 'method':0, 'introduction':0, 'evaluation':0}\n",
    "            map_val = {'experiment':0, 'conclusion':1, 'other_sections':2, 'related_work':3, 'method':4, 'introduction':5, 'evaluation':6}\n",
    "            paper_name = cit['title']\n",
    "            con_data = {}\n",
    "            con_data1 = {}\n",
    "            con_data['paper_name'] = paper_name\n",
    "            con_data1['paper_name'] = paper_name\n",
    "            con_data['context'] = \"\"\n",
    "            con_data1['context'] = \"\"\n",
    "            con_data['loc_feat'] = [0,0,0,0,0,0,0]\n",
    "            con_data1['loc_feat'] = [0,0,0,0,0,0,0]\n",
    "            \n",
    "            for context in cit['cit'].findall('contexts/context') :\n",
    "                context_text = context.text.lower()\n",
    "                sents = sent_tokenize(context_text)\n",
    "                citstr = context.get('citStr').lower()\n",
    "                con_sent = \"\"\n",
    "                for sent in sents :\n",
    "                    if(citstr in sent.lower()) :\n",
    "                        con_sent = sent\n",
    "                        sent_list.append(sent)\n",
    "                        break\n",
    "                        \n",
    "                for section in section_labels[key]:\n",
    "                    if section=='overall':\n",
    "                        continue\n",
    "                    section_text = \"\"\n",
    "                    for subsection in section_labels[key][section]:\n",
    "                        text = section_labels[key][section][subsection]\n",
    "                        section_text += text + \" \"\n",
    "                    if match_titles(context_text, section_text) :\n",
    "                        con_data[\"context\"]+=context_text+\" \"\n",
    "                        con_data1[\"context\"]+=con_sent+\" \"\n",
    "                        con_data['loc_feat'][map_val[section]]+=1\n",
    "                        con_data1['loc_feat'][map_val[section]]+=1\n",
    "                        break\n",
    "                        \n",
    "            all_list.append(con_data)\n",
    "            all_list1.append(con_data1)\n",
    "            \n",
    "        dataset[key] = all_list\n",
    "        dataset1[key] = all_list1\n",
    "        \n",
    "    return dataset, dataset1"
   ]
  },
  {
   "cell_type": "code",
   "execution_count": 43,
   "metadata": {},
   "outputs": [
    {
     "name": "stdout",
     "output_type": "stream",
     "text": [
      "64468\n"
     ]
    }
   ],
   "source": [
    "section_cont, sec_con_sent, sent_list = get_section_feature(section_labels, citations)"
   ]
  },
  {
   "cell_type": "code",
   "execution_count": 22,
   "metadata": {},
   "outputs": [],
   "source": [
    "our_full, our_sent = get_section_feat_our(section_labels, citations)"
   ]
  },
  {
   "cell_type": "code",
   "execution_count": 24,
   "metadata": {},
   "outputs": [
    {
     "name": "stdout",
     "output_type": "stream",
     "text": [
      "2801\n"
     ]
    }
   ],
   "source": [
    "print(len(our_full.keys()))"
   ]
  },
  {
   "cell_type": "code",
   "execution_count": 23,
   "metadata": {},
   "outputs": [],
   "source": [
    "pickle.dump(our_full, open(\"our_model/section_con_loc_feat.pkl\",\"wb\"))\n",
    "pickle.dump(our_sent, open(\"our_model/section_sent_loc_feat.pkl\",\"wb\"))"
   ]
  },
  {
   "cell_type": "code",
   "execution_count": 49,
   "metadata": {},
   "outputs": [
    {
     "name": "stdout",
     "output_type": "stream",
     "text": [
      "the data sparseness problem is usually solved by smoothing, regularization, margin maximization and so on (chen and goodman, 1998; chen and rosenfeld, 2000; cortes and vapnik, 1995).\n"
     ]
    }
   ],
   "source": [
    "for sent in sent_list :\n",
    "    if(sent_list.count(sent)>1) :\n",
    "        print(sent)\n",
    "        break"
   ]
  },
  {
   "cell_type": "code",
   "execution_count": 50,
   "metadata": {},
   "outputs": [],
   "source": [
    "pickle.dump(section_cont, open(\"base_pickles/section_contexts.pkl\",\"wb\"))\n",
    "pickle.dump(sec_con_sent, open(\"base_pickles/section_sentences.pkl\",\"wb\"))"
   ]
  },
  {
   "cell_type": "code",
   "execution_count": 51,
   "metadata": {},
   "outputs": [
    {
     "name": "stdout",
     "output_type": "stream",
     "text": [
      "63315\n",
      "38591\n"
     ]
    }
   ],
   "source": [
    "print(len(section_cont.keys()))\n",
    "print(len(sec_con_sent.keys()))"
   ]
  },
  {
   "cell_type": "code",
   "execution_count": 31,
   "metadata": {},
   "outputs": [],
   "source": [
    "def get_citation_worthiness(citations, section_labels) :\n",
    "    dataset = {}\n",
    "    count0 = 0\n",
    "    count1 = 0\n",
    "    \n",
    "    for key in citations :\n",
    "        all_text = \" \"\n",
    "        for section in section_labels[key] :\n",
    "            if(section=='overall') :\n",
    "                continue\n",
    "            else :\n",
    "                all_text+= section_labels[key][section]['overall']\n",
    "            \n",
    "        all_citstrs = []\n",
    "        for cit in citations[key] :\n",
    "            all_citstrs.extend(list(set([context.get('citStr').lower() for context in cit['cit'].findall('contexts/context')])))\n",
    "            \n",
    "            \n",
    "        sentences = sent_tokenize(all_text)\n",
    "        for sent in sentences :\n",
    "            sent = sent.lower()\n",
    "            check = 0\n",
    "            for citstr in all_citstrs :\n",
    "                if(citstr in sent) :\n",
    "                    sent = sent.replace(citstr,\" \")\n",
    "                    check = 1\n",
    "                    dataset[sent] = 1\n",
    "                    count1+=1\n",
    "                    break\n",
    "            if(check==0) :\n",
    "                dataset[sent] = 0\n",
    "                count0+=1\n",
    "            \n",
    "    print(count0)\n",
    "    print(count1)\n",
    "    return dataset"
   ]
  },
  {
   "cell_type": "code",
   "execution_count": 32,
   "metadata": {},
   "outputs": [
    {
     "name": "stdout",
     "output_type": "stream",
     "text": [
      "494373\n",
      "47891\n"
     ]
    }
   ],
   "source": [
    "worthy = get_citation_worthiness(citations, section_labels)"
   ]
  },
  {
   "cell_type": "code",
   "execution_count": 33,
   "metadata": {},
   "outputs": [],
   "source": [
    "pickle.dump(worthy, open(\"base_pickles/citation_worthy.pkl\",\"wb\"))"
   ]
  },
  {
   "cell_type": "code",
   "execution_count": 13,
   "metadata": {},
   "outputs": [],
   "source": [
    "def get_citations():\n",
    "    citation_list = {}\n",
    "    for file in os.listdir(\"../xmls/\") :\n",
    "        tree = ET.parse(\"../xmls/\"+file)\n",
    "        root = tree.getroot()\n",
    "        id = file[:8]\n",
    "        for element in root.iterfind(\"algorithm\"):\n",
    "            if(element.attrib['name']==\"ParsCit\"):\n",
    "                citlist = element.getchildren()\n",
    "                cits = citlist[0].getchildren()\n",
    "                citations = []\n",
    "                for cit in cits:\n",
    "                    cit_dict = {}\n",
    "                    if(cit.attrib['valid']==\"true\"):\n",
    "                        try :\n",
    "                            title = cit.find('title').text.lower()\n",
    "                        except :\n",
    "                            title = cit.find('rawString').text.lower()\n",
    "                        cit_dict['title'] = title\n",
    "                        cit_dict['cit'] = cit\n",
    "                        citations.append(cit_dict)\n",
    "                \n",
    "                citation_list[id] = citations\n",
    "                \n",
    "    for file in os.listdir(\"../all_acl_xmls/all_files/\") :\n",
    "        try :\n",
    "            tree = ET.parse(\"../all_acl_xmls/all_files/\"+file)\n",
    "            root = tree.getroot()\n",
    "            id = file[:8]\n",
    "            for element in root.iterfind(\"algorithm\"):\n",
    "                if(element.attrib['name']==\"ParsCit\"):\n",
    "                    citlist = element.getchildren()\n",
    "                    cits = citlist[0].getchildren()\n",
    "                    citations = []\n",
    "                    for cit in cits:\n",
    "                        cit_dict = {}\n",
    "                        if(cit.attrib['valid']==\"true\"):\n",
    "                            try :\n",
    "                                title = cit.find('title').text.lower()\n",
    "                            except :\n",
    "                                title = cit.find('rawString').text.lower()\n",
    "                            cit_dict['title'] = title\n",
    "                            cit_dict['cit'] = cit\n",
    "                            citations.append(cit_dict)\n",
    "\n",
    "                    citation_list[id] = citations\n",
    "        except :\n",
    "            pass\n",
    "            \n",
    "    return citation_list "
   ]
  },
  {
   "cell_type": "code",
   "execution_count": 14,
   "metadata": {},
   "outputs": [],
   "source": [
    "citations = get_citations()"
   ]
  },
  {
   "cell_type": "code",
   "execution_count": 18,
   "metadata": {},
   "outputs": [],
   "source": [
    "def get_contexts(citations) :\n",
    "    dataset = {}\n",
    "    dataset1 = {}\n",
    "    count = 0\n",
    "    for key in citations.keys():\n",
    "        context_list = []\n",
    "        con_list = []\n",
    "        for cit in citations[key] :\n",
    "            dict1 = {}\n",
    "            dict1['paper_name'] = cit['title']\n",
    "            dict1['context'] = []\n",
    "            dict2 = {}\n",
    "            dict2['paper_name'] = cit['title']\n",
    "            dict2['sents'] = []\n",
    "            for context in cit['cit'].findall('contexts/context') :\n",
    "                text = context.text\n",
    "                sents = sent_tokenize(text)\n",
    "                citstr = context.get('citStr')\n",
    "                con = \"\"\n",
    "                for sent in sents :\n",
    "                    if(citstr in sent) :\n",
    "                        ind = sents.index(sent)\n",
    "#                         sent = sent.replace(citstr, \"this_citation\")\n",
    "                        con+= sents[ind-1] + \" \"\n",
    "                        con+= sent + \" \"\n",
    "                        dict2['sents'].append(sent)\n",
    "                        if(ind+1<len(sents)):\n",
    "                            con+= sents[ind+1] \n",
    "                        break\n",
    "                con = con.lower()\n",
    "                dict1['context'].append(text)\n",
    "            context_list.append(dict1)\n",
    "            con_list.append(dict2)\n",
    "        dataset[key] = context_list\n",
    "        dataset1[key] = con_list\n",
    "        count+=1\n",
    "        if(count%100==0) :\n",
    "            print(count)\n",
    "    return dataset, dataset1"
   ]
  },
  {
   "cell_type": "code",
   "execution_count": 19,
   "metadata": {},
   "outputs": [
    {
     "name": "stdout",
     "output_type": "stream",
     "text": [
      "100\n",
      "200\n",
      "300\n",
      "400\n",
      "500\n",
      "600\n",
      "700\n",
      "800\n",
      "900\n",
      "1000\n",
      "1100\n",
      "1200\n",
      "1300\n",
      "1400\n",
      "1500\n",
      "1600\n",
      "1700\n",
      "1800\n",
      "1900\n",
      "2000\n",
      "2100\n",
      "2200\n",
      "2300\n",
      "2400\n",
      "2500\n",
      "2600\n",
      "2700\n",
      "2800\n"
     ]
    }
   ],
   "source": [
    "contexts, context_sents = get_contexts(citations)"
   ]
  },
  {
   "cell_type": "code",
   "execution_count": 21,
   "metadata": {},
   "outputs": [],
   "source": [
    "pickle.dump(contexts, open(\"base_pickles/all_contexts.pkl\",\"wb\"))\n",
    "pickle.dump(context_sents, open(\"base_pickles/all_citation_sents.pkl\", \"wb\"))"
   ]
  },
  {
   "cell_type": "code",
   "execution_count": null,
   "metadata": {},
   "outputs": [],
   "source": []
  }
 ],
 "metadata": {
  "kernelspec": {
   "display_name": "Python 3",
   "language": "python",
   "name": "python3"
  },
  "language_info": {
   "codemirror_mode": {
    "name": "ipython",
    "version": 3
   },
   "file_extension": ".py",
   "mimetype": "text/x-python",
   "name": "python",
   "nbconvert_exporter": "python",
   "pygments_lexer": "ipython3",
   "version": "3.6.7"
  }
 },
 "nbformat": 4,
 "nbformat_minor": 2
}
