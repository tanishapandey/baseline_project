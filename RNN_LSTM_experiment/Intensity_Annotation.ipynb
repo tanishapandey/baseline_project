{
 "cells": [
  {
   "cell_type": "code",
   "execution_count": 1,
   "metadata": {},
   "outputs": [],
   "source": [
    "import pandas as pd"
   ]
  },
  {
   "cell_type": "code",
   "execution_count": 2,
   "metadata": {},
   "outputs": [],
   "source": [
    "df = pd.read_excel(\"Intensity_Annotation.xlsx\", names=[\"Intensity\", \"Sentence\"])"
   ]
  },
  {
   "cell_type": "code",
   "execution_count": 3,
   "metadata": {},
   "outputs": [
    {
     "name": "stdout",
     "output_type": "stream",
     "text": [
      "Collecting ekphrasis\n",
      "Collecting termcolor (from ekphrasis)\n",
      "Collecting matplotlib (from ekphrasis)\n",
      "  Using cached https://files.pythonhosted.org/packages/93/4b/52da6b1523d5139d04e02d9e26ceda6146b48f2a4e5d2abfdf1c7bac8c40/matplotlib-3.2.1-cp36-cp36m-manylinux1_x86_64.whl\n",
      "Collecting nltk (from ekphrasis)\n",
      "Collecting tqdm (from ekphrasis)\n",
      "  Using cached https://files.pythonhosted.org/packages/4a/1c/6359be64e8301b84160f6f6f7936bbfaaa5e9a4eab6cbc681db07600b949/tqdm-4.45.0-py2.py3-none-any.whl\n",
      "Collecting colorama (from ekphrasis)\n",
      "  Using cached https://files.pythonhosted.org/packages/c9/dc/45cdef1b4d119eb96316b3117e6d5708a08029992b2fee2c143c7a0a5cc5/colorama-0.4.3-py2.py3-none-any.whl\n",
      "Collecting ujson (from ekphrasis)\n",
      "  Using cached https://files.pythonhosted.org/packages/a8/e4/a79c57e22d6d09bbeb5e8febb8cfa0fe10ede69eed9c3458d3ec99014e20/ujson-2.0.3-cp36-cp36m-manylinux1_x86_64.whl\n",
      "Collecting ftfy (from ekphrasis)\n",
      "Collecting numpy (from ekphrasis)\n",
      "  Using cached https://files.pythonhosted.org/packages/07/08/a549ba8b061005bb629b76adc000f3caaaf881028b963c2e18f811c6edc1/numpy-1.18.2-cp36-cp36m-manylinux1_x86_64.whl\n",
      "Collecting pyparsing!=2.0.4,!=2.1.2,!=2.1.6,>=2.0.1 (from matplotlib->ekphrasis)\n",
      "  Using cached https://files.pythonhosted.org/packages/8a/bb/488841f56197b13700afd5658fc279a2025a39e22449b7cf29864669b15d/pyparsing-2.4.7-py2.py3-none-any.whl\n",
      "Collecting cycler>=0.10 (from matplotlib->ekphrasis)\n",
      "  Using cached https://files.pythonhosted.org/packages/f7/d2/e07d3ebb2bd7af696440ce7e754c59dd546ffe1bbe732c8ab68b9c834e61/cycler-0.10.0-py2.py3-none-any.whl\n",
      "Collecting python-dateutil>=2.1 (from matplotlib->ekphrasis)\n",
      "  Using cached https://files.pythonhosted.org/packages/d4/70/d60450c3dd48ef87586924207ae8907090de0b306af2bce5d134d78615cb/python_dateutil-2.8.1-py2.py3-none-any.whl\n",
      "Collecting kiwisolver>=1.0.1 (from matplotlib->ekphrasis)\n",
      "  Using cached https://files.pythonhosted.org/packages/ae/23/147de658aabbf968324551ea22c0c13a00284c4ef49a77002e91f79657b7/kiwisolver-1.2.0-cp36-cp36m-manylinux1_x86_64.whl\n",
      "Collecting joblib (from nltk->ekphrasis)\n",
      "  Using cached https://files.pythonhosted.org/packages/28/5c/cf6a2b65a321c4a209efcdf64c2689efae2cb62661f8f6f4bb28547cf1bf/joblib-0.14.1-py2.py3-none-any.whl\n",
      "Collecting regex (from nltk->ekphrasis)\n",
      "  Using cached https://files.pythonhosted.org/packages/1d/c1/c90beb2dbbfbf19f3634e16a441d5f11fa787bdf0748a35b8b88452c0e78/regex-2020.4.4-cp36-cp36m-manylinux1_x86_64.whl\n",
      "Collecting click (from nltk->ekphrasis)\n",
      "  Using cached https://files.pythonhosted.org/packages/dd/c0/4d8f43a9b16e289f36478422031b8a63b54b6ac3b1ba605d602f10dd54d6/click-7.1.1-py2.py3-none-any.whl\n",
      "Collecting wcwidth (from ftfy->ekphrasis)\n",
      "  Using cached https://files.pythonhosted.org/packages/f6/d5/1ecdac957e3ea12c1b319fcdee8b6917ffaff8b4644d673c4d72d2f20b49/wcwidth-0.1.9-py2.py3-none-any.whl\n",
      "Collecting six (from cycler>=0.10->matplotlib->ekphrasis)\n",
      "  Using cached https://files.pythonhosted.org/packages/65/eb/1f97cb97bfc2390a276969c6fae16075da282f5058082d4cb10c6c5c1dba/six-1.14.0-py2.py3-none-any.whl\n",
      "Installing collected packages: termcolor, pyparsing, six, cycler, python-dateutil, kiwisolver, numpy, matplotlib, tqdm, joblib, regex, click, nltk, colorama, ujson, wcwidth, ftfy, ekphrasis\n",
      "Successfully installed click-7.1.1 colorama-0.4.3 cycler-0.10.0 ekphrasis-0.5.1 ftfy-5.7 joblib-0.14.1 kiwisolver-1.2.0 matplotlib-3.2.1 nltk-3.5 numpy-1.18.2 pyparsing-2.4.7 python-dateutil-2.8.1 regex-2020.4.4 six-1.14.0 termcolor-1.1.0 tqdm-4.45.0 ujson-2.0.3 wcwidth-0.1.9\n"
     ]
    }
   ],
   "source": [
    "! pip3 install ekphrasis"
   ]
  },
  {
   "cell_type": "code",
   "execution_count": null,
   "metadata": {},
   "outputs": [],
   "source": [
    "intensity = df['Intensity']\n",
    "sent = df['Sentence']"
   ]
  },
  {
   "cell_type": "code",
   "execution_count": 1,
   "metadata": {},
   "outputs": [],
   "source": [
    "import pickle\n",
    "normalized_sents = pickle.load(open(\"normalized_sents.pkl\",\"rb\"))\n",
    "intensity = pickle.load(open(\"intensity.pkl\",\"rb\"))"
   ]
  },
  {
   "cell_type": "code",
   "execution_count": 2,
   "metadata": {},
   "outputs": [
    {
     "name": "stdout",
     "output_type": "stream",
     "text": [
      "898\n",
      "898\n"
     ]
    }
   ],
   "source": [
    "print(len(normalized_sents))\n",
    "print(len(intensity))"
   ]
  },
  {
   "cell_type": "code",
   "execution_count": 16,
   "metadata": {},
   "outputs": [],
   "source": [
    "from nltk import word_tokenize\n",
    "import string\n",
    "import numpy as np\n",
    "from sklearn.linear_model import LogisticRegression\n",
    "from sklearn.metrics import classification_report\n",
    "from sklearn.preprocessing import MinMaxScaler\n",
    "from sklearn.preprocessing import StandardScaler\n",
    "from sklearn.preprocessing import PowerTransformer\n",
    "from sklearn.model_selection import GridSearchCV\n",
    "from sklearn.naive_bayes import GaussianNB, MultinomialNB, ComplementNB\n",
    "from sklearn.linear_model import LogisticRegression\n",
    "from sklearn.neighbors import KNeighborsClassifier\n",
    "from sklearn.tree import DecisionTreeClassifier\n",
    "from sklearn.ensemble import RandomForestClassifier\n",
    "from sklearn.neural_network import MLPClassifier\n",
    "from sklearn import svm\n",
    "import random\n",
    "import math"
   ]
  },
  {
   "cell_type": "code",
   "execution_count": 4,
   "metadata": {},
   "outputs": [],
   "source": [
    "def remove_punctuations(tokens):\n",
    "    table = str.maketrans('', '', string.punctuation) \n",
    "    ptokens = [w.translate(table) for w in tokens]     \n",
    "    return ptokens"
   ]
  },
  {
   "cell_type": "code",
   "execution_count": 10,
   "metadata": {},
   "outputs": [
    {
     "name": "stdout",
     "output_type": "stream",
     "text": [
      "79\n"
     ]
    }
   ],
   "source": [
    "max1 = 0\n",
    "for y in normalized_sents :\n",
    "    words = word_tokenize(y)\n",
    "    words = remove_punctuations(words)\n",
    "    words = [s for s in words if s]\n",
    "    if(len(words)>max1) :\n",
    "        max1= len(words)\n",
    "\n",
    "print(max1)\n",
    "    "
   ]
  },
  {
   "cell_type": "code",
   "execution_count": 13,
   "metadata": {},
   "outputs": [],
   "source": [
    "embeddings_dict = {}\n",
    "with open(\"glove.6B.100d.txt\", 'r', encoding=\"utf-8\") as f:\n",
    "    for line in f:\n",
    "        values = line.split()\n",
    "        word = values[0]\n",
    "        vector = np.asarray(values[1:], \"float32\")\n",
    "        embeddings_dict[word] = vector"
   ]
  },
  {
   "cell_type": "code",
   "execution_count": 41,
   "metadata": {},
   "outputs": [],
   "source": [
    "values = []\n",
    "\n",
    "for y in normalized_sents :\n",
    "    words = word_tokenize(y)\n",
    "    words = remove_punctuations(words)\n",
    "    words = [s for s in words if s]\n",
    "    embed = []\n",
    "    for word in words :\n",
    "        if(word in embeddings_dict) :\n",
    "            embed.extend(list(embeddings_dict[word]))\n",
    "        else :\n",
    "            embed.extend(list(embeddings_dict['unk']))\n",
    "    diff = 79-len(words)\n",
    "    if(diff>0) :\n",
    "        for i in range(diff) :\n",
    "            embed.extend(list(np.zeros((100,))))\n",
    "    values.append(embed)  "
   ]
  },
  {
   "cell_type": "code",
   "execution_count": 42,
   "metadata": {},
   "outputs": [],
   "source": [
    "values = np.array(values)\n",
    "intensity = np.array(intensity)"
   ]
  },
  {
   "cell_type": "code",
   "execution_count": 43,
   "metadata": {},
   "outputs": [],
   "source": [
    "output = []\n",
    "for x in intensity :\n",
    "    if(x>=7) :\n",
    "        output.append(1)\n",
    "    else :\n",
    "        output.append(0)"
   ]
  },
  {
   "cell_type": "code",
   "execution_count": 44,
   "metadata": {},
   "outputs": [],
   "source": [
    "output = np.array(output)"
   ]
  },
  {
   "cell_type": "code",
   "execution_count": 45,
   "metadata": {},
   "outputs": [
    {
     "name": "stdout",
     "output_type": "stream",
     "text": [
      "(898, 7900)\n",
      "(898,)\n"
     ]
    }
   ],
   "source": [
    "print(values.shape)\n",
    "print(output.shape)"
   ]
  },
  {
   "cell_type": "code",
   "execution_count": 47,
   "metadata": {},
   "outputs": [],
   "source": [
    "from sklearn.decomposition import PCA\n",
    "reducer = PCA()\n",
    "reducer.fit(values)\n",
    "values = reducer.transform(values)"
   ]
  },
  {
   "cell_type": "code",
   "execution_count": 35,
   "metadata": {},
   "outputs": [
    {
     "name": "stdout",
     "output_type": "stream",
     "text": [
      "(898, 898)\n"
     ]
    }
   ],
   "source": [
    "print(values.shape)"
   ]
  },
  {
   "cell_type": "code",
   "execution_count": 36,
   "metadata": {},
   "outputs": [],
   "source": [
    "from sklearn.model_selection import train_test_split"
   ]
  },
  {
   "cell_type": "code",
   "execution_count": 63,
   "metadata": {},
   "outputs": [],
   "source": [
    "train_data, test_data, train_output, test_output = train_test_split(values, intensity, test_size=0.2, random_state=42)"
   ]
  },
  {
   "cell_type": "code",
   "execution_count": 64,
   "metadata": {},
   "outputs": [
    {
     "name": "stdout",
     "output_type": "stream",
     "text": [
      "              precision    recall  f1-score   support\n",
      "\n",
      "           1       0.00      0.00      0.00         0\n",
      "           2       0.00      0.00      0.00        14\n",
      "           3       0.12      0.10      0.11        20\n",
      "           4       0.19      0.21      0.20        24\n",
      "           5       0.09      0.18      0.12        17\n",
      "           6       0.12      0.06      0.09        31\n",
      "           7       0.33      0.44      0.38        34\n",
      "           8       0.21      0.19      0.20        31\n",
      "           9       0.22      0.22      0.22         9\n",
      "\n",
      "    accuracy                           0.19       180\n",
      "   macro avg       0.14      0.16      0.15       180\n",
      "weighted avg       0.18      0.19      0.18       180\n",
      "\n",
      "              precision    recall  f1-score   support\n",
      "\n",
      "           1       1.00      1.00      1.00        13\n",
      "           2       1.00      1.00      1.00        32\n",
      "           3       1.00      1.00      1.00        79\n",
      "           4       1.00      1.00      1.00        81\n",
      "           5       1.00      1.00      1.00        95\n",
      "           6       1.00      0.99      0.99        82\n",
      "           7       0.99      0.99      0.99       134\n",
      "           8       0.99      0.99      0.99       139\n",
      "           9       1.00      1.00      1.00        60\n",
      "          10       1.00      1.00      1.00         3\n",
      "\n",
      "    accuracy                           1.00       718\n",
      "   macro avg       1.00      1.00      1.00       718\n",
      "weighted avg       1.00      1.00      1.00       718\n",
      "\n",
      "{'C': 0.1, 'fit_intercept': True}\n"
     ]
    },
    {
     "name": "stderr",
     "output_type": "stream",
     "text": [
      "/home/tanisha17116/.local/lib/python3.6/site-packages/sklearn/metrics/_classification.py:1272: UndefinedMetricWarning: Recall and F-score are ill-defined and being set to 0.0 in labels with no true samples. Use `zero_division` parameter to control this behavior.\n",
      "  _warn_prf(average, modifier, msg_start, len(result))\n"
     ]
    }
   ],
   "source": [
    "params = {'C':[0.1, 0.5, 1, 2], 'fit_intercept':[True, False]}\n",
    "modelin = LogisticRegression(solver='lbfgs', max_iter=1e4, n_jobs=5, random_state=1, warm_start=False, penalty='l2')\n",
    "model = GridSearchCV(modelin, params, cv=2, n_jobs=5)\n",
    "# model = LogisticRegression(solver='lbfgs',max_iter=1e4, n_jobs=5, random_state=1, warm_start=False, C=1, fit_intercept=True)\n",
    "clf = model.fit(train_data, train_output)\n",
    "predict_test = clf.predict(test_data)\n",
    "print(classification_report(test_output, predict_test))\n",
    "predictions = clf.predict(train_data)\n",
    "print(classification_report(train_output, predictions))\n",
    "print(model.best_params_)"
   ]
  },
  {
   "cell_type": "code",
   "execution_count": 65,
   "metadata": {},
   "outputs": [
    {
     "name": "stdout",
     "output_type": "stream",
     "text": [
      "              precision    recall  f1-score   support\n",
      "\n",
      "           2       0.00      0.00      0.00        14\n",
      "           3       0.00      0.00      0.00        20\n",
      "           4       0.31      0.21      0.25        24\n",
      "           5       0.18      0.41      0.25        17\n",
      "           6       0.00      0.00      0.00        31\n",
      "           7       0.21      0.09      0.12        34\n",
      "           8       0.24      0.87      0.38        31\n",
      "           9       0.00      0.00      0.00         9\n",
      "\n",
      "    accuracy                           0.23       180\n",
      "   macro avg       0.12      0.20      0.13       180\n",
      "weighted avg       0.14      0.23      0.15       180\n",
      "\n"
     ]
    },
    {
     "name": "stderr",
     "output_type": "stream",
     "text": [
      "/home/tanisha17116/.local/lib/python3.6/site-packages/sklearn/metrics/_classification.py:1272: UndefinedMetricWarning: Precision and F-score are ill-defined and being set to 0.0 in labels with no predicted samples. Use `zero_division` parameter to control this behavior.\n",
      "  _warn_prf(average, modifier, msg_start, len(result))\n"
     ]
    }
   ],
   "source": [
    "params = {'C':[0.1, 0.5, 1, 2, 3]}\n",
    "rbf_svc = svm.SVC(kernel='rbf', gamma='scale', max_iter=1e4, C=0.5 )\n",
    "clf = rbf_svc.fit(train_data, train_output)\n",
    "predict_test = clf.predict(test_data)\n",
    "print(classification_report(test_output, predict_test))"
   ]
  },
  {
   "cell_type": "code",
   "execution_count": 66,
   "metadata": {},
   "outputs": [
    {
     "name": "stdout",
     "output_type": "stream",
     "text": [
      "              precision    recall  f1-score   support\n",
      "\n",
      "           2       0.00      0.00      0.00        14\n",
      "           3       0.00      0.00      0.00        20\n",
      "           4       0.33      0.12      0.18        24\n",
      "           5       0.17      0.18      0.17        17\n",
      "           6       0.00      0.00      0.00        31\n",
      "           7       0.14      0.29      0.19        34\n",
      "           8       0.14      0.39      0.21        31\n",
      "           9       0.00      0.00      0.00         9\n",
      "\n",
      "    accuracy                           0.16       180\n",
      "   macro avg       0.10      0.12      0.09       180\n",
      "weighted avg       0.11      0.16      0.11       180\n",
      "\n"
     ]
    },
    {
     "name": "stderr",
     "output_type": "stream",
     "text": [
      "/home/tanisha17116/.local/lib/python3.6/site-packages/sklearn/metrics/_classification.py:1272: UndefinedMetricWarning: Precision and F-score are ill-defined and being set to 0.0 in labels with no predicted samples. Use `zero_division` parameter to control this behavior.\n",
      "  _warn_prf(average, modifier, msg_start, len(result))\n"
     ]
    }
   ],
   "source": [
    "model = RandomForestClassifier(random_state=1, n_jobs=5, max_leaf_nodes=20)\n",
    "clf = model.fit(train_data, train_output)\n",
    "predictions = clf.predict(test_data)\n",
    "print(classification_report(test_output, predictions))"
   ]
  },
  {
   "cell_type": "code",
   "execution_count": null,
   "metadata": {},
   "outputs": [],
   "source": []
  }
 ],
 "metadata": {
  "kernelspec": {
   "display_name": "Python3.6",
   "language": "python",
   "name": "python3.6"
  },
  "language_info": {
   "codemirror_mode": {
    "name": "ipython",
    "version": 3
   },
   "file_extension": ".py",
   "mimetype": "text/x-python",
   "name": "python",
   "nbconvert_exporter": "python",
   "pygments_lexer": "ipython3",
   "version": "3.6.7"
  }
 },
 "nbformat": 4,
 "nbformat_minor": 2
}
